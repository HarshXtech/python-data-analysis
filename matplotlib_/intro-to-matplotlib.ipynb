{
 "cells": [
  {
   "cell_type": "code",
   "execution_count": 1,
   "id": "c7872d60-307e-43b4-8f38-96429005c8ad",
   "metadata": {},
   "outputs": [],
   "source": [
    "### Matplotlib and seaborn in this series"
   ]
  },
  {
   "cell_type": "code",
   "execution_count": 2,
   "id": "96595f3d-1fcc-4e8b-a1ed-a64ed0e3d6ae",
   "metadata": {},
   "outputs": [],
   "source": [
    "# data visuazilation\n",
    "\n",
    "# Linear plot, Scatter plot, box plot, bar, histogram, piechart"
   ]
  },
  {
   "cell_type": "code",
   "execution_count": null,
   "id": "6576656d-616e-4897-b745-f62a4496dc6c",
   "metadata": {},
   "outputs": [],
   "source": []
  },
  {
   "cell_type": "code",
   "execution_count": null,
   "id": "07dfac55-0a3e-4dcd-8eb6-99c2e56a5fdc",
   "metadata": {},
   "outputs": [],
   "source": [
    "import matplotlib.pylot as plt\n",
    "import seaborn as sns\n",
    "import numpy as np\n",
    "import pandas as pd"
   ]
  }
 ],
 "metadata": {
  "kernelspec": {
   "display_name": "Python 3 (ipykernel)",
   "language": "python",
   "name": "python3"
  },
  "language_info": {
   "codemirror_mode": {
    "name": "ipython",
    "version": 3
   },
   "file_extension": ".py",
   "mimetype": "text/x-python",
   "name": "python",
   "nbconvert_exporter": "python",
   "pygments_lexer": "ipython3",
   "version": "3.12.3"
  }
 },
 "nbformat": 4,
 "nbformat_minor": 5
}
