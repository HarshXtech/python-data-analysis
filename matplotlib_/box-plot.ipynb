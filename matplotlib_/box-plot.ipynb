{
 "cells": [
  {
   "cell_type": "markdown",
   "id": "e1ac25ad-2a7b-4f86-a7eb-fb1f108945a2",
   "metadata": {},
   "source": [
    "### What is a Box Plot?\n",
    "##### A box plot (also known as a box-and-whisker plot) is a graphical representation of the distribution of a dataset based on five key summary statistics:\n",
    "\n",
    "### Five-number summary:\n",
    "Minimum – the smallest value\n",
    "\n",
    "#### Q1 (First Quartile) – the 25th percentile\n",
    "\n",
    "#### Median (Q2) – the 50th percentile (middle of the dataset)\n",
    "\n",
    "#### Q3 (Third Quartile) – the 75th percentile\n",
    "\n",
    "#### Maximum – the largest value (excluding outliers)\n",
    "\n",
    "### It’s useful for:\n",
    "\n",
    "#### Visualizing the spread of the data\n",
    "\n",
    "#### Detecting outliers\n",
    "\n",
    "#### Comparing distributions\n",
    "\n"
   ]
  },
  {
   "cell_type": "code",
   "execution_count": 2,
   "id": "68de0c79-79b7-47e8-8ca0-7a060acd835b",
   "metadata": {},
   "outputs": [],
   "source": [
    "import pandas as pd\n",
    "import matplotlib.pyplot as plt"
   ]
  },
  {
   "cell_type": "code",
   "execution_count": 15,
   "id": "e3a9a047-4331-4c28-a18f-4920aa87699c",
   "metadata": {},
   "outputs": [],
   "source": [
    "data = [10, 20, 30, 40, 50, 60, 70]"
   ]
  },
  {
   "cell_type": "code",
   "execution_count": 14,
   "id": "e3843d97-a5cd-4b6f-9ffb-b6c51e610a2c",
   "metadata": {},
   "outputs": [
    {
     "data": {
      "image/png": "[encoded data removed]",
      "text/plain": [
       "<Figure size 640x480 with 1 Axes>"
      ]
     },
     "metadata": {},
     "output_type": "display_data"
    }
   ],
   "source": [
    "# \n",
    "\n",
    "plt.boxplot(data, patch_artist=True)\n",
    "# plt.boxplot(data2, patch_artist=True)\n",
    "plt.grid(True)\n",
    "\n",
    "# five number summery\n",
    "\n",
    "# max value : 70\n",
    "# min value : 10\n",
    "# 25% (q1) : 25 : 25% of the data falls below this value!\n",
    "# 75%v(q3) : 55 : 75% of the data falls below this value!\n",
    "# median (q2): 40 :median of the data "
   ]
  },
  {
   "cell_type": "code",
   "execution_count": null,
   "id": "e71d1a63-3b8b-4883-9a79-45a2710f5b15",
   "metadata": {},
   "outputs": [],
   "source": []
  },
  {
   "cell_type": "code",
   "execution_count": null,
   "id": "5a371218-a238-4244-80a5-e99076fd084f",
   "metadata": {},
   "outputs": [],
   "source": []
  },
  {
   "cell_type": "code",
   "execution_count": null,
   "id": "b44c9fad-885b-4c5e-93d2-840ab4271916",
   "metadata": {},
   "outputs": [],
   "source": []
  },
  {
   "cell_type": "code",
   "execution_count": null,
   "id": "63a70696-ae3e-4dc6-ad59-ef9f917865b4",
   "metadata": {},
   "outputs": [],
   "source": []
  }
 ],
 "metadata": {
  "kernelspec": {
   "display_name": "Python 3 (ipykernel)",
   "language": "python",
   "name": "python3"
  },
  "language_info": {
   "codemirror_mode": {
    "name": "ipython",
    "version": 3
   },
   "file_extension": ".py",
   "mimetype": "text/x-python",
   "name": "python",
   "nbconvert_exporter": "python",
   "pygments_lexer": "ipython3",
   "version": "3.12.3"
  }
 },
 "nbformat": 4,
 "nbformat_minor": 5
}
