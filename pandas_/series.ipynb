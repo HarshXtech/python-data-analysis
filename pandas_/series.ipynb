{
 "cells": [
  {
   "cell_type": "code",
   "execution_count": 1,
   "id": "5c2e9745-514d-4ab9-b684-ade58a5035b1",
   "metadata": {},
   "outputs": [],
   "source": [
    "import numpy as np\n",
    "import pandas as pd"
   ]
  },
  {
   "cell_type": "code",
   "execution_count": 2,
   "id": "fe4cc7a9-5916-4be7-b733-5ef4bd6b2900",
   "metadata": {},
   "outputs": [],
   "source": [
    "lang = [\"Python\", \"Javascript\", \"C\", \"PHP\", \"C++\"]"
   ]
  },
  {
   "cell_type": "code",
   "execution_count": 3,
   "id": "9fae9199-d4bd-481c-973a-e41608ce47e5",
   "metadata": {},
   "outputs": [
    {
     "data": {
      "text/plain": [
       "['Python', 'Javascript', 'C', 'PHP', 'C++']"
      ]
     },
     "execution_count": 3,
     "metadata": {},
     "output_type": "execute_result"
    }
   ],
   "source": [
    "lang"
   ]
  },
  {
   "cell_type": "code",
   "execution_count": 10,
   "id": "3ebfc8a9-875b-4781-a4d8-b725e63234c3",
   "metadata": {},
   "outputs": [],
   "source": [
    "ser = pd.Series(lang)"
   ]
  },
  {
   "cell_type": "code",
   "execution_count": 13,
   "id": "c7b76efc-1fbc-454d-b729-dd187332da7a",
   "metadata": {},
   "outputs": [],
   "source": [
    "ser.index = list('abcde')"
   ]
  },
  {
   "cell_type": "code",
   "execution_count": 14,
   "id": "6a238e4a-af23-4124-8220-e22526ff05e2",
   "metadata": {},
   "outputs": [
    {
     "data": {
      "text/plain": [
       "a        Python\n",
       "b    Javascript\n",
       "c             C\n",
       "d           PHP\n",
       "e           C++\n",
       "dtype: object"
      ]
     },
     "execution_count": 14,
     "metadata": {},
     "output_type": "execute_result"
    }
   ],
   "source": [
    "ser"
   ]
  },
  {
   "cell_type": "code",
   "execution_count": 15,
   "id": "450b1cc4-727f-4536-9093-46a2a4a4915b",
   "metadata": {},
   "outputs": [
    {
     "data": {
      "text/plain": [
       "Index(['a', 'b', 'c', 'd', 'e'], dtype='object')"
      ]
     },
     "execution_count": 15,
     "metadata": {},
     "output_type": "execute_result"
    }
   ],
   "source": [
    "ser.index"
   ]
  },
  {
   "cell_type": "code",
   "execution_count": 17,
   "id": "ddea200f-f0f8-4e01-8fe1-d45b6f325ff8",
   "metadata": {},
   "outputs": [
    {
     "data": {
      "text/plain": [
       "array(['Python', 'Javascript', 'C', 'PHP', 'C++'], dtype=object)"
      ]
     },
     "execution_count": 17,
     "metadata": {},
     "output_type": "execute_result"
    }
   ],
   "source": [
    "ser.values"
   ]
  },
  {
   "cell_type": "code",
   "execution_count": 20,
   "id": "061fc421-03ab-42b6-beb5-b0cbc40b1a47",
   "metadata": {},
   "outputs": [],
   "source": [
    "ser['d'] = \"Java\""
   ]
  },
  {
   "cell_type": "code",
   "execution_count": 21,
   "id": "33fa17e1-fa25-4eec-94c4-17d65efde785",
   "metadata": {},
   "outputs": [
    {
     "data": {
      "text/plain": [
       "a        Python\n",
       "b    Javascript\n",
       "c             C\n",
       "d          Java\n",
       "e           C++\n",
       "dtype: object"
      ]
     },
     "execution_count": 21,
     "metadata": {},
     "output_type": "execute_result"
    }
   ],
   "source": [
    "ser"
   ]
  },
  {
   "cell_type": "code",
   "execution_count": 23,
   "id": "aa5284f3-39be-4528-90f3-7a7d8bd18a90",
   "metadata": {},
   "outputs": [
    {
     "data": {
      "text/plain": [
       "d    Java\n",
       "e     C++\n",
       "dtype: object"
      ]
     },
     "execution_count": 23,
     "metadata": {},
     "output_type": "execute_result"
    }
   ],
   "source": [
    "ser[3:] # it will give me all the elements from 3 "
   ]
  },
  {
   "cell_type": "code",
   "execution_count": 24,
   "id": "dfbc8dc3-1e10-41fd-9026-0b3c6e1e881d",
   "metadata": {},
   "outputs": [
    {
     "data": {
      "text/plain": [
       "b    Javascript\n",
       "c             C\n",
       "d          Java\n",
       "dtype: object"
      ]
     },
     "execution_count": 24,
     "metadata": {},
     "output_type": "execute_result"
    }
   ],
   "source": [
    "ser[1:4] # 1 is starting point, and 4 is ending point"
   ]
  },
  {
   "cell_type": "code",
   "execution_count": 25,
   "id": "b1ab525a-b226-491b-a18d-1f88f5165db3",
   "metadata": {},
   "outputs": [
    {
     "data": {
      "text/plain": [
       "a        Python\n",
       "b    Javascript\n",
       "c             C\n",
       "d          Java\n",
       "e           C++\n",
       "dtype: object"
      ]
     },
     "execution_count": 25,
     "metadata": {},
     "output_type": "execute_result"
    }
   ],
   "source": [
    "ser[:] # iwill get all the elements"
   ]
  },
  {
   "cell_type": "code",
   "execution_count": 26,
   "id": "3b554d00-2d9e-466b-ba1c-0b1bce70caa1",
   "metadata": {},
   "outputs": [
    {
     "data": {
      "text/plain": [
       "'Java'"
      ]
     },
     "execution_count": 26,
     "metadata": {},
     "output_type": "execute_result"
    }
   ],
   "source": [
    "ser['d']"
   ]
  },
  {
   "cell_type": "code",
   "execution_count": 27,
   "id": "07819d10-9adf-4bfc-ba91-11a51eab5091",
   "metadata": {},
   "outputs": [
    {
     "data": {
      "text/plain": [
       "'Java'"
      ]
     },
     "execution_count": 27,
     "metadata": {},
     "output_type": "execute_result"
    }
   ],
   "source": [
    "ser.d"
   ]
  },
  {
   "cell_type": "code",
   "execution_count": null,
   "id": "625c2c03-11de-4097-a2d8-a8f816e7fdba",
   "metadata": {},
   "outputs": [],
   "source": []
  },
  {
   "cell_type": "code",
   "execution_count": 28,
   "id": "19eca987-34dd-4655-bfc0-8a49ef860294",
   "metadata": {},
   "outputs": [],
   "source": [
    "num = [10, 20, 30, 40, 50, 60]"
   ]
  },
  {
   "cell_type": "code",
   "execution_count": 29,
   "id": "45353935-fde3-4834-9dda-2f9f75bd4ef6",
   "metadata": {},
   "outputs": [],
   "source": [
    "num_arr = np.array(num)"
   ]
  },
  {
   "cell_type": "code",
   "execution_count": 33,
   "id": "847ec665-d33c-427c-88f0-9827d7cad04a",
   "metadata": {},
   "outputs": [
    {
     "data": {
      "text/plain": [
       "array([100, 200, 300, 400, 500, 600])"
      ]
     },
     "execution_count": 33,
     "metadata": {},
     "output_type": "execute_result"
    }
   ],
   "source": [
    "num_arr * 10"
   ]
  },
  {
   "cell_type": "code",
   "execution_count": 31,
   "id": "8fb4206a-d188-4008-a719-5de685bf0e74",
   "metadata": {},
   "outputs": [],
   "source": [
    "num_ser = pd.Series(num)"
   ]
  },
  {
   "cell_type": "code",
   "execution_count": 35,
   "id": "0b4de9b2-5161-4b36-afc1-3f69ceb748d1",
   "metadata": {},
   "outputs": [
    {
     "data": {
      "text/plain": [
       "0    1.0\n",
       "1    2.0\n",
       "2    3.0\n",
       "3    4.0\n",
       "4    5.0\n",
       "5    6.0\n",
       "dtype: float64"
      ]
     },
     "execution_count": 35,
     "metadata": {},
     "output_type": "execute_result"
    }
   ],
   "source": [
    "num_ser / 10"
   ]
  },
  {
   "cell_type": "code",
   "execution_count": null,
   "id": "230bcbe6-3096-478e-a08f-8d2424ce005b",
   "metadata": {},
   "outputs": [],
   "source": []
  },
  {
   "cell_type": "markdown",
   "id": "b367cd13-219a-419f-bfd9-9e6ef1f2465e",
   "metadata": {},
   "source": [
    "### Filtering in series"
   ]
  },
  {
   "cell_type": "code",
   "execution_count": 36,
   "id": "5280c816-a33b-4a53-b36d-7693080c4461",
   "metadata": {},
   "outputs": [
    {
     "data": {
      "text/plain": [
       "0    10\n",
       "1    20\n",
       "2    30\n",
       "3    40\n",
       "4    50\n",
       "5    60\n",
       "dtype: int64"
      ]
     },
     "execution_count": 36,
     "metadata": {},
     "output_type": "execute_result"
    }
   ],
   "source": [
    "num_ser"
   ]
  },
  {
   "cell_type": "code",
   "execution_count": 37,
   "id": "29f4f1e7-84a0-481e-8b96-017a30df3562",
   "metadata": {},
   "outputs": [
    {
     "data": {
      "text/plain": [
       "0    False\n",
       "1    False\n",
       "2    False\n",
       "3     True\n",
       "4     True\n",
       "5     True\n",
       "dtype: bool"
      ]
     },
     "execution_count": 37,
     "metadata": {},
     "output_type": "execute_result"
    }
   ],
   "source": [
    "num_ser > 30"
   ]
  },
  {
   "cell_type": "code",
   "execution_count": 44,
   "id": "eca4b196-e1d8-4a59-9838-5bb955c19ceb",
   "metadata": {},
   "outputs": [
    {
     "data": {
      "text/plain": [
       "0    10\n",
       "1    20\n",
       "2    30\n",
       "3    40\n",
       "4    50\n",
       "5    60\n",
       "dtype: int64"
      ]
     },
     "execution_count": 44,
     "metadata": {},
     "output_type": "execute_result"
    }
   ],
   "source": [
    "num_ser[num_ser % 2 == 0]"
   ]
  },
  {
   "cell_type": "code",
   "execution_count": null,
   "id": "5ec6bcde-2338-4a69-b7b7-91b875b7ec35",
   "metadata": {},
   "outputs": [],
   "source": []
  },
  {
   "cell_type": "code",
   "execution_count": 45,
   "id": "8169fa11-18f5-461d-9616-5ca61d8b7bef",
   "metadata": {},
   "outputs": [],
   "source": [
    "dictionary = {\n",
    "    'a' : 2,\n",
    "    'b' : 5,\n",
    "    'c' : 7,\n",
    "    'd' : 10,\n",
    "    'e' : 8\n",
    "}"
   ]
  },
  {
   "cell_type": "code",
   "execution_count": 46,
   "id": "4b589d49-e327-462f-b418-f0fafc49aebc",
   "metadata": {},
   "outputs": [],
   "source": [
    "dict_ser = pd.Series(dictionary)"
   ]
  },
  {
   "cell_type": "code",
   "execution_count": 47,
   "id": "cefa6291-14c2-4a43-a1a1-a6ff2a5e8352",
   "metadata": {},
   "outputs": [
    {
     "data": {
      "text/plain": [
       "a     2\n",
       "b     5\n",
       "c     7\n",
       "d    10\n",
       "e     8\n",
       "dtype: int64"
      ]
     },
     "execution_count": 47,
     "metadata": {},
     "output_type": "execute_result"
    }
   ],
   "source": [
    "dict_ser"
   ]
  },
  {
   "cell_type": "code",
   "execution_count": 49,
   "id": "9906b943-97b6-45be-b648-328ede658f4b",
   "metadata": {},
   "outputs": [],
   "source": [
    "dict_ser.name = \"my series\""
   ]
  },
  {
   "cell_type": "code",
   "execution_count": 50,
   "id": "45a3e615-4c15-4895-8018-50e62f1dbc32",
   "metadata": {},
   "outputs": [
    {
     "data": {
      "text/plain": [
       "a     2\n",
       "b     5\n",
       "c     7\n",
       "d    10\n",
       "e     8\n",
       "Name: my series, dtype: int64"
      ]
     },
     "execution_count": 50,
     "metadata": {},
     "output_type": "execute_result"
    }
   ],
   "source": [
    "dict_ser"
   ]
  },
  {
   "cell_type": "code",
   "execution_count": null,
   "id": "f7e7c4ed-b86a-4188-9f7b-8d3c118d080e",
   "metadata": {},
   "outputs": [],
   "source": []
  }
 ],
 "metadata": {
  "kernelspec": {
   "display_name": "Python 3 (ipykernel)",
   "language": "python",
   "name": "python3"
  },
  "language_info": {
   "codemirror_mode": {
    "name": "ipython",
    "version": 3
   },
   "file_extension": ".py",
   "mimetype": "text/x-python",
   "name": "python",
   "nbconvert_exporter": "python",
   "pygments_lexer": "ipython3",
   "version": "3.12.3"
  }
 },
 "nbformat": 4,
 "nbformat_minor": 5
}
