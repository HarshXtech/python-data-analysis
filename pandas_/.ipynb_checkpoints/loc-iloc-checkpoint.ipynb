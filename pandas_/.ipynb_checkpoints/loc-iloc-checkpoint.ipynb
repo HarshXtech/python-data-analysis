{
 "cells": [
  {
   "cell_type": "code",
   "execution_count": 1,
   "id": "46d34175-7e7e-4be7-8904-a7c52b630761",
   "metadata": {},
   "outputs": [],
   "source": [
    "# Loc and iloc"
   ]
  },
  {
   "cell_type": "code",
   "execution_count": 2,
   "id": "81d29fd3-20b8-4b29-b30e-068449a6a17c",
   "metadata": {},
   "outputs": [],
   "source": [
    "import numpy as np\n",
    "import pandas as pd"
   ]
  },
  {
   "cell_type": "code",
   "execution_count": 3,
   "id": "57e19997-45a8-4ffd-b880-a99127b809bc",
   "metadata": {},
   "outputs": [],
   "source": [
    "# df.loc[index name, column name]\n",
    "# df.iloc[index number, column number]\n",
    "\n",
    "# loc and iloc : location and index location"
   ]
  },
  {
   "cell_type": "code",
   "execution_count": 4,
   "id": "00cf53db-0672-4936-9b45-6d415f2fff12",
   "metadata": {},
   "outputs": [],
   "source": [
    "a = [1,2,3,4,5]"
   ]
  },
  {
   "cell_type": "code",
   "execution_count": 7,
   "id": "21b628b5-18cc-4cc7-9512-338a0e40db22",
   "metadata": {},
   "outputs": [],
   "source": [
    "dictionary = {\n",
    "    'a' : 10, \n",
    "    'b' : 20\n",
    "}"
   ]
  },
  {
   "cell_type": "code",
   "execution_count": 8,
   "id": "f74da57c-d7a5-4e7e-aa2e-88046cc3e28f",
   "metadata": {},
   "outputs": [
    {
     "data": {
      "text/plain": [
       "10"
      ]
     },
     "execution_count": 8,
     "metadata": {},
     "output_type": "execute_result"
    }
   ],
   "source": [
    "dictionary['a']"
   ]
  },
  {
   "cell_type": "code",
   "execution_count": 9,
   "id": "0fb596db-f6aa-4701-b6b9-535f541e8537",
   "metadata": {},
   "outputs": [],
   "source": [
    "data = {\n",
    "    'name' : [\"Rahul\", \"Sakshi\", \"Amit\", \"Dhruv\", \"Dhruvi\"],\n",
    "    \"roles\" : [\"IT\", \"IT\", \"HR\", \"finance\", \"HR\"],\n",
    "    \"salary\" : [100, 200, 150, 120, 400]\n",
    "}"
   ]
  },
  {
   "cell_type": "code",
   "execution_count": 12,
   "id": "656ef463-3805-44f3-ba34-7058d4d9c626",
   "metadata": {},
   "outputs": [],
   "source": [
    "df = pd.DataFrame(data, index=list('abcde'))"
   ]
  },
  {
   "cell_type": "code",
   "execution_count": 13,
   "id": "c88750d3-66ae-49d3-8ff9-d2e3998ec35f",
   "metadata": {},
   "outputs": [
    {
     "data": {
      "text/html": [
       "<div>\n",
       "<style scoped>\n",
       "    .dataframe tbody tr th:only-of-type {\n",
       "        vertical-align: middle;\n",
       "    }\n",
       "\n",
       "    .dataframe tbody tr th {\n",
       "        vertical-align: top;\n",
       "    }\n",
       "\n",
       "    .dataframe thead th {\n",
       "        text-align: right;\n",
       "    }\n",
       "</style>\n",
       "<table border=\"1\" class=\"dataframe\">\n",
       "  <thead>\n",
       "    <tr style=\"text-align: right;\">\n",
       "      <th></th>\n",
       "      <th>name</th>\n",
       "      <th>roles</th>\n",
       "      <th>salary</th>\n",
       "    </tr>\n",
       "  </thead>\n",
       "  <tbody>\n",
       "    <tr>\n",
       "      <th>a</th>\n",
       "      <td>Rahul</td>\n",
       "      <td>IT</td>\n",
       "      <td>100</td>\n",
       "    </tr>\n",
       "    <tr>\n",
       "      <th>b</th>\n",
       "      <td>Sakshi</td>\n",
       "      <td>IT</td>\n",
       "      <td>200</td>\n",
       "    </tr>\n",
       "    <tr>\n",
       "      <th>c</th>\n",
       "      <td>Amit</td>\n",
       "      <td>HR</td>\n",
       "      <td>150</td>\n",
       "    </tr>\n",
       "    <tr>\n",
       "      <th>d</th>\n",
       "      <td>Dhruv</td>\n",
       "      <td>finance</td>\n",
       "      <td>120</td>\n",
       "    </tr>\n",
       "    <tr>\n",
       "      <th>e</th>\n",
       "      <td>Dhruvi</td>\n",
       "      <td>HR</td>\n",
       "      <td>400</td>\n",
       "    </tr>\n",
       "  </tbody>\n",
       "</table>\n",
       "</div>"
      ],
      "text/plain": [
       "     name    roles  salary\n",
       "a   Rahul       IT     100\n",
       "b  Sakshi       IT     200\n",
       "c    Amit       HR     150\n",
       "d   Dhruv  finance     120\n",
       "e  Dhruvi       HR     400"
      ]
     },
     "execution_count": 13,
     "metadata": {},
     "output_type": "execute_result"
    }
   ],
   "source": [
    "df"
   ]
  },
  {
   "cell_type": "code",
   "execution_count": 15,
   "id": "27d8b1d1-1c2b-49dc-be71-f6937217508e",
   "metadata": {},
   "outputs": [
    {
     "data": {
      "text/plain": [
       "name      Sakshi\n",
       "roles         IT\n",
       "salary       200\n",
       "Name: b, dtype: object"
      ]
     },
     "execution_count": 15,
     "metadata": {},
     "output_type": "execute_result"
    }
   ],
   "source": [
    "df.loc['b'] # it will give me all the details about b index"
   ]
  },
  {
   "cell_type": "code",
   "execution_count": 24,
   "id": "2a528e38-07c2-439e-ac74-6403b351936f",
   "metadata": {},
   "outputs": [
    {
     "data": {
      "text/plain": [
       "a    100\n",
       "b    200\n",
       "c    150\n",
       "Name: salary, dtype: int64"
      ]
     },
     "execution_count": 24,
     "metadata": {},
     "output_type": "execute_result"
    }
   ],
   "source": [
    "df.loc['a' : 'c']['salary'] # ending point is inclusive"
   ]
  },
  {
   "cell_type": "code",
   "execution_count": 25,
   "id": "bf6495e0-03c7-491b-812c-9111555de46f",
   "metadata": {},
   "outputs": [
    {
     "data": {
      "text/plain": [
       "np.int64(100)"
      ]
     },
     "execution_count": 25,
     "metadata": {},
     "output_type": "execute_result"
    }
   ],
   "source": [
    "df.loc['a', 'salary']"
   ]
  },
  {
   "cell_type": "code",
   "execution_count": 28,
   "id": "982c85e6-1ab1-4c12-92ed-44e20952e904",
   "metadata": {},
   "outputs": [
    {
     "data": {
      "text/plain": [
       "'HR'"
      ]
     },
     "execution_count": 28,
     "metadata": {},
     "output_type": "execute_result"
    }
   ],
   "source": [
    "df.loc['c', 'roles']"
   ]
  },
  {
   "cell_type": "markdown",
   "id": "889ca5ee-40fd-4fae-a28a-59a945100d6d",
   "metadata": {},
   "source": [
    "### df.loc : you can access any data from column or index name directly"
   ]
  },
  {
   "cell_type": "code",
   "execution_count": null,
   "id": "638b24d7-4b5a-4862-8967-32c60051ed64",
   "metadata": {},
   "outputs": [],
   "source": []
  },
  {
   "cell_type": "code",
   "execution_count": 29,
   "id": "01ce2988-dfa5-45ae-afaf-9e1467ed5141",
   "metadata": {},
   "outputs": [
    {
     "data": {
      "text/plain": [
       "name      Rahul\n",
       "roles        IT\n",
       "salary      100\n",
       "Name: a, dtype: object"
      ]
     },
     "execution_count": 29,
     "metadata": {},
     "output_type": "execute_result"
    }
   ],
   "source": [
    "df.iloc[0]"
   ]
  },
  {
   "cell_type": "code",
   "execution_count": 30,
   "id": "de179a4f-0666-4ac8-8ab4-899291107015",
   "metadata": {},
   "outputs": [
    {
     "data": {
      "text/html": [
       "<div>\n",
       "<style scoped>\n",
       "    .dataframe tbody tr th:only-of-type {\n",
       "        vertical-align: middle;\n",
       "    }\n",
       "\n",
       "    .dataframe tbody tr th {\n",
       "        vertical-align: top;\n",
       "    }\n",
       "\n",
       "    .dataframe thead th {\n",
       "        text-align: right;\n",
       "    }\n",
       "</style>\n",
       "<table border=\"1\" class=\"dataframe\">\n",
       "  <thead>\n",
       "    <tr style=\"text-align: right;\">\n",
       "      <th></th>\n",
       "      <th>name</th>\n",
       "      <th>roles</th>\n",
       "      <th>salary</th>\n",
       "    </tr>\n",
       "  </thead>\n",
       "  <tbody>\n",
       "    <tr>\n",
       "      <th>a</th>\n",
       "      <td>Rahul</td>\n",
       "      <td>IT</td>\n",
       "      <td>100</td>\n",
       "    </tr>\n",
       "    <tr>\n",
       "      <th>b</th>\n",
       "      <td>Sakshi</td>\n",
       "      <td>IT</td>\n",
       "      <td>200</td>\n",
       "    </tr>\n",
       "    <tr>\n",
       "      <th>c</th>\n",
       "      <td>Amit</td>\n",
       "      <td>HR</td>\n",
       "      <td>150</td>\n",
       "    </tr>\n",
       "    <tr>\n",
       "      <th>d</th>\n",
       "      <td>Dhruv</td>\n",
       "      <td>finance</td>\n",
       "      <td>120</td>\n",
       "    </tr>\n",
       "    <tr>\n",
       "      <th>e</th>\n",
       "      <td>Dhruvi</td>\n",
       "      <td>HR</td>\n",
       "      <td>400</td>\n",
       "    </tr>\n",
       "  </tbody>\n",
       "</table>\n",
       "</div>"
      ],
      "text/plain": [
       "     name    roles  salary\n",
       "a   Rahul       IT     100\n",
       "b  Sakshi       IT     200\n",
       "c    Amit       HR     150\n",
       "d   Dhruv  finance     120\n",
       "e  Dhruvi       HR     400"
      ]
     },
     "execution_count": 30,
     "metadata": {},
     "output_type": "execute_result"
    }
   ],
   "source": [
    "df"
   ]
  },
  {
   "cell_type": "code",
   "execution_count": 33,
   "id": "2ed78942-eb23-4a81-892c-6566964318f6",
   "metadata": {},
   "outputs": [
    {
     "data": {
      "text/plain": [
       "name      Amit\n",
       "roles       HR\n",
       "salary     150\n",
       "Name: c, dtype: object"
      ]
     },
     "execution_count": 33,
     "metadata": {},
     "output_type": "execute_result"
    }
   ],
   "source": [
    "df.loc['c']"
   ]
  },
  {
   "cell_type": "code",
   "execution_count": 41,
   "id": "8e3e41b2-ca2c-49bf-974f-74dea6ca0f16",
   "metadata": {},
   "outputs": [
    {
     "data": {
      "text/plain": [
       "name     Sakshi\n",
       "roles        IT\n",
       "Name: b, dtype: object"
      ]
     },
     "execution_count": 41,
     "metadata": {},
     "output_type": "execute_result"
    }
   ],
   "source": [
    "df.iloc[1, 0:2] # 2 is my starting point, and 4 is ending point, where ending point is non-inclusive"
   ]
  },
  {
   "cell_type": "code",
   "execution_count": 42,
   "id": "a35179f6-6cb0-48a8-b6bb-532f396cb61a",
   "metadata": {},
   "outputs": [],
   "source": [
    "# : -> all rows\n",
    "# 0 : 2 : "
   ]
  },
  {
   "cell_type": "code",
   "execution_count": 43,
   "id": "f9b668c9-a365-4cbe-b358-fb3b971fba53",
   "metadata": {},
   "outputs": [
    {
     "data": {
      "text/html": [
       "<div>\n",
       "<style scoped>\n",
       "    .dataframe tbody tr th:only-of-type {\n",
       "        vertical-align: middle;\n",
       "    }\n",
       "\n",
       "    .dataframe tbody tr th {\n",
       "        vertical-align: top;\n",
       "    }\n",
       "\n",
       "    .dataframe thead th {\n",
       "        text-align: right;\n",
       "    }\n",
       "</style>\n",
       "<table border=\"1\" class=\"dataframe\">\n",
       "  <thead>\n",
       "    <tr style=\"text-align: right;\">\n",
       "      <th></th>\n",
       "      <th>name</th>\n",
       "      <th>roles</th>\n",
       "      <th>salary</th>\n",
       "    </tr>\n",
       "  </thead>\n",
       "  <tbody>\n",
       "    <tr>\n",
       "      <th>a</th>\n",
       "      <td>Rahul</td>\n",
       "      <td>IT</td>\n",
       "      <td>100</td>\n",
       "    </tr>\n",
       "    <tr>\n",
       "      <th>b</th>\n",
       "      <td>Sakshi</td>\n",
       "      <td>IT</td>\n",
       "      <td>200</td>\n",
       "    </tr>\n",
       "    <tr>\n",
       "      <th>c</th>\n",
       "      <td>Amit</td>\n",
       "      <td>HR</td>\n",
       "      <td>150</td>\n",
       "    </tr>\n",
       "  </tbody>\n",
       "</table>\n",
       "</div>"
      ],
      "text/plain": [
       "     name roles  salary\n",
       "a   Rahul    IT     100\n",
       "b  Sakshi    IT     200\n",
       "c    Amit    HR     150"
      ]
     },
     "execution_count": 43,
     "metadata": {},
     "output_type": "execute_result"
    }
   ],
   "source": [
    "df.loc['a' : 'c']"
   ]
  },
  {
   "cell_type": "code",
   "execution_count": 44,
   "id": "3a78f75e-25e2-4527-bdcc-c529ff500046",
   "metadata": {},
   "outputs": [
    {
     "data": {
      "text/html": [
       "<div>\n",
       "<style scoped>\n",
       "    .dataframe tbody tr th:only-of-type {\n",
       "        vertical-align: middle;\n",
       "    }\n",
       "\n",
       "    .dataframe tbody tr th {\n",
       "        vertical-align: top;\n",
       "    }\n",
       "\n",
       "    .dataframe thead th {\n",
       "        text-align: right;\n",
       "    }\n",
       "</style>\n",
       "<table border=\"1\" class=\"dataframe\">\n",
       "  <thead>\n",
       "    <tr style=\"text-align: right;\">\n",
       "      <th></th>\n",
       "      <th>name</th>\n",
       "      <th>roles</th>\n",
       "      <th>salary</th>\n",
       "    </tr>\n",
       "  </thead>\n",
       "  <tbody>\n",
       "    <tr>\n",
       "      <th>a</th>\n",
       "      <td>Rahul</td>\n",
       "      <td>IT</td>\n",
       "      <td>100</td>\n",
       "    </tr>\n",
       "    <tr>\n",
       "      <th>b</th>\n",
       "      <td>Sakshi</td>\n",
       "      <td>IT</td>\n",
       "      <td>200</td>\n",
       "    </tr>\n",
       "  </tbody>\n",
       "</table>\n",
       "</div>"
      ],
      "text/plain": [
       "     name roles  salary\n",
       "a   Rahul    IT     100\n",
       "b  Sakshi    IT     200"
      ]
     },
     "execution_count": 44,
     "metadata": {},
     "output_type": "execute_result"
    }
   ],
   "source": [
    "df.iloc[0:2]"
   ]
  },
  {
   "cell_type": "code",
   "execution_count": 45,
   "id": "338a1758-04b1-4937-8399-7ed300dd0387",
   "metadata": {},
   "outputs": [],
   "source": [
    "df.loc['a', 'name'] = \"Harsh\""
   ]
  },
  {
   "cell_type": "code",
   "execution_count": 46,
   "id": "36da40df-9a41-43a0-8ff9-a079deff99b3",
   "metadata": {},
   "outputs": [
    {
     "data": {
      "text/html": [
       "<div>\n",
       "<style scoped>\n",
       "    .dataframe tbody tr th:only-of-type {\n",
       "        vertical-align: middle;\n",
       "    }\n",
       "\n",
       "    .dataframe tbody tr th {\n",
       "        vertical-align: top;\n",
       "    }\n",
       "\n",
       "    .dataframe thead th {\n",
       "        text-align: right;\n",
       "    }\n",
       "</style>\n",
       "<table border=\"1\" class=\"dataframe\">\n",
       "  <thead>\n",
       "    <tr style=\"text-align: right;\">\n",
       "      <th></th>\n",
       "      <th>name</th>\n",
       "      <th>roles</th>\n",
       "      <th>salary</th>\n",
       "    </tr>\n",
       "  </thead>\n",
       "  <tbody>\n",
       "    <tr>\n",
       "      <th>a</th>\n",
       "      <td>Harsh</td>\n",
       "      <td>IT</td>\n",
       "      <td>100</td>\n",
       "    </tr>\n",
       "    <tr>\n",
       "      <th>b</th>\n",
       "      <td>Sakshi</td>\n",
       "      <td>IT</td>\n",
       "      <td>200</td>\n",
       "    </tr>\n",
       "    <tr>\n",
       "      <th>c</th>\n",
       "      <td>Amit</td>\n",
       "      <td>HR</td>\n",
       "      <td>150</td>\n",
       "    </tr>\n",
       "    <tr>\n",
       "      <th>d</th>\n",
       "      <td>Dhruv</td>\n",
       "      <td>finance</td>\n",
       "      <td>120</td>\n",
       "    </tr>\n",
       "    <tr>\n",
       "      <th>e</th>\n",
       "      <td>Dhruvi</td>\n",
       "      <td>HR</td>\n",
       "      <td>400</td>\n",
       "    </tr>\n",
       "  </tbody>\n",
       "</table>\n",
       "</div>"
      ],
      "text/plain": [
       "     name    roles  salary\n",
       "a   Harsh       IT     100\n",
       "b  Sakshi       IT     200\n",
       "c    Amit       HR     150\n",
       "d   Dhruv  finance     120\n",
       "e  Dhruvi       HR     400"
      ]
     },
     "execution_count": 46,
     "metadata": {},
     "output_type": "execute_result"
    }
   ],
   "source": [
    "df"
   ]
  },
  {
   "cell_type": "code",
   "execution_count": 47,
   "id": "15ab9d99-9c16-4e87-9b02-d64ac2719bee",
   "metadata": {},
   "outputs": [],
   "source": [
    "df.iloc[0, 0] = \"Kishan\""
   ]
  },
  {
   "cell_type": "code",
   "execution_count": 48,
   "id": "5c20888c-d5ae-4110-b2ce-c5441f04f70a",
   "metadata": {},
   "outputs": [
    {
     "data": {
      "text/html": [
       "<div>\n",
       "<style scoped>\n",
       "    .dataframe tbody tr th:only-of-type {\n",
       "        vertical-align: middle;\n",
       "    }\n",
       "\n",
       "    .dataframe tbody tr th {\n",
       "        vertical-align: top;\n",
       "    }\n",
       "\n",
       "    .dataframe thead th {\n",
       "        text-align: right;\n",
       "    }\n",
       "</style>\n",
       "<table border=\"1\" class=\"dataframe\">\n",
       "  <thead>\n",
       "    <tr style=\"text-align: right;\">\n",
       "      <th></th>\n",
       "      <th>name</th>\n",
       "      <th>roles</th>\n",
       "      <th>salary</th>\n",
       "    </tr>\n",
       "  </thead>\n",
       "  <tbody>\n",
       "    <tr>\n",
       "      <th>a</th>\n",
       "      <td>Kishan</td>\n",
       "      <td>IT</td>\n",
       "      <td>100</td>\n",
       "    </tr>\n",
       "    <tr>\n",
       "      <th>b</th>\n",
       "      <td>Sakshi</td>\n",
       "      <td>IT</td>\n",
       "      <td>200</td>\n",
       "    </tr>\n",
       "    <tr>\n",
       "      <th>c</th>\n",
       "      <td>Amit</td>\n",
       "      <td>HR</td>\n",
       "      <td>150</td>\n",
       "    </tr>\n",
       "    <tr>\n",
       "      <th>d</th>\n",
       "      <td>Dhruv</td>\n",
       "      <td>finance</td>\n",
       "      <td>120</td>\n",
       "    </tr>\n",
       "    <tr>\n",
       "      <th>e</th>\n",
       "      <td>Dhruvi</td>\n",
       "      <td>HR</td>\n",
       "      <td>400</td>\n",
       "    </tr>\n",
       "  </tbody>\n",
       "</table>\n",
       "</div>"
      ],
      "text/plain": [
       "     name    roles  salary\n",
       "a  Kishan       IT     100\n",
       "b  Sakshi       IT     200\n",
       "c    Amit       HR     150\n",
       "d   Dhruv  finance     120\n",
       "e  Dhruvi       HR     400"
      ]
     },
     "execution_count": 48,
     "metadata": {},
     "output_type": "execute_result"
    }
   ],
   "source": [
    "df"
   ]
  },
  {
   "cell_type": "code",
   "execution_count": null,
   "id": "d24ed84d-c105-47fd-9e1c-7bad99f0b6ab",
   "metadata": {},
   "outputs": [],
   "source": []
  },
  {
   "cell_type": "markdown",
   "id": "1d001fec-d3e3-458e-aa97-4cda9d4dd29a",
   "metadata": {},
   "source": [
    "### df.loc : \n",
    "##### you will have access to the direct names of index and column! and when working with ranges, end point will be inclusive\n",
    "\n",
    "### df.iloc : \n",
    "##### you will have access to the rows and columns by their indeces (you have to write index number - similar to access data in list or numpy]) , when working with ranges, end point will be non-inclusive!"
   ]
  },
  {
   "cell_type": "code",
   "execution_count": null,
   "id": "f7591e51-15e1-4121-938b-36d4fc8a9d83",
   "metadata": {},
   "outputs": [],
   "source": []
  }
 ],
 "metadata": {
  "kernelspec": {
   "display_name": "Python 3 (ipykernel)",
   "language": "python",
   "name": "python3"
  },
  "language_info": {
   "codemirror_mode": {
    "name": "ipython",
    "version": 3
   },
   "file_extension": ".py",
   "mimetype": "text/x-python",
   "name": "python",
   "nbconvert_exporter": "python",
   "pygments_lexer": "ipython3",
   "version": "3.12.3"
  }
 },
 "nbformat": 4,
 "nbformat_minor": 5
}
