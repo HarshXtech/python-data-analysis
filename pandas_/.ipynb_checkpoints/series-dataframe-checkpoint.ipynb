{
 "cells": [
  {
   "cell_type": "code",
   "execution_count": 1,
   "id": "23e7c705-1405-4064-9911-c34867281d10",
   "metadata": {},
   "outputs": [],
   "source": [
    "import numpy as np\n",
    "import pandas as pd"
   ]
  },
  {
   "cell_type": "code",
   "execution_count": null,
   "id": "37cd0c7f-ab00-40f4-a27b-a06e415161a5",
   "metadata": {},
   "outputs": [],
   "source": []
  },
  {
   "cell_type": "markdown",
   "id": "8ecacd08-988a-4439-8711-c0ce07d301a8",
   "metadata": {},
   "source": [
    "### Series : \n",
    "#### series is one-dimensional array-like data structure"
   ]
  },
  {
   "cell_type": "code",
   "execution_count": 2,
   "id": "de523305-e4ee-48dd-ad45-127d09575a63",
   "metadata": {},
   "outputs": [],
   "source": [
    "a = [\"india\", \"ausis\", 'japan', 'ireland', 'USA']"
   ]
  },
  {
   "cell_type": "code",
   "execution_count": 3,
   "id": "c776b82b-bfb8-4b43-b793-7f62f56d0d41",
   "metadata": {},
   "outputs": [],
   "source": [
    "ser = pd.Series(a)"
   ]
  },
  {
   "cell_type": "code",
   "execution_count": 11,
   "id": "6be5580b-7a35-4d85-93bc-760d032ff19c",
   "metadata": {},
   "outputs": [],
   "source": [
    "ser.index = list('abcde')"
   ]
  },
  {
   "cell_type": "code",
   "execution_count": 14,
   "id": "d97b9efe-b6a0-4cf2-a8ae-09e0697c5d31",
   "metadata": {},
   "outputs": [
    {
     "data": {
      "text/plain": [
       "'india'"
      ]
     },
     "execution_count": 14,
     "metadata": {},
     "output_type": "execute_result"
    }
   ],
   "source": [
    "ser['a']"
   ]
  },
  {
   "cell_type": "code",
   "execution_count": 15,
   "id": "4e442b24-1725-4dbe-84d7-45a49d0796c3",
   "metadata": {},
   "outputs": [
    {
     "data": {
      "text/plain": [
       "a      india\n",
       "b      ausis\n",
       "c      japan\n",
       "d    ireland\n",
       "e        USA\n",
       "dtype: object"
      ]
     },
     "execution_count": 15,
     "metadata": {},
     "output_type": "execute_result"
    }
   ],
   "source": [
    "ser"
   ]
  },
  {
   "cell_type": "code",
   "execution_count": 16,
   "id": "59cd072f-8742-477c-ad6a-c4f78c80a9cd",
   "metadata": {},
   "outputs": [
    {
     "data": {
      "text/plain": [
       "array([1, 2, 3, 4])"
      ]
     },
     "execution_count": 16,
     "metadata": {},
     "output_type": "execute_result"
    }
   ],
   "source": [
    "b = [1,2,3,4]\n",
    "np.array(b)"
   ]
  },
  {
   "cell_type": "code",
   "execution_count": 26,
   "id": "72eb8364-942c-4021-91bb-dec2fa307efd",
   "metadata": {},
   "outputs": [
    {
     "data": {
      "text/plain": [
       "Index(['a', 'b', 'c', 'd', 'e'], dtype='object')"
      ]
     },
     "execution_count": 26,
     "metadata": {},
     "output_type": "execute_result"
    }
   ],
   "source": [
    "ser.index"
   ]
  },
  {
   "cell_type": "markdown",
   "id": "53ef6906-e5f4-4217-9ebc-b8d6ec00940f",
   "metadata": {},
   "source": [
    "### DataFrame\n",
    "\n",
    "#### it has two dim. row, and column"
   ]
  },
  {
   "cell_type": "code",
   "execution_count": 17,
   "id": "821f0385-f078-4597-8140-99b98c58f3a5",
   "metadata": {},
   "outputs": [],
   "source": [
    "data = {\n",
    "    'name' : [\"Rahul\", \"Sakshi\", \"Amit\", \"Dhruv\", \"Dhruvi\"],\n",
    "    \"roles\" : [\"IT\", \"IT\", \"HR\", \"finance\", \"HR\"],\n",
    "    \"salary\" : [100, 200, 150, 120, 400]\n",
    "}"
   ]
  },
  {
   "cell_type": "code",
   "execution_count": 18,
   "id": "8ab3c928-4607-4c8a-b84d-332f40d4eb7d",
   "metadata": {},
   "outputs": [
    {
     "data": {
      "text/plain": [
       "{'name': ['Rahul', 'Sakshi', 'Amit', 'Dhruv', 'Dhruvi'],\n",
       " 'roles': ['IT', 'IT', 'HR', 'finance', 'HR'],\n",
       " 'salary': [100, 200, 150, 120, 400]}"
      ]
     },
     "execution_count": 18,
     "metadata": {},
     "output_type": "execute_result"
    }
   ],
   "source": [
    "data"
   ]
  },
  {
   "cell_type": "code",
   "execution_count": 24,
   "id": "62772e11-4c33-49b0-9b14-e8106d526297",
   "metadata": {},
   "outputs": [
    {
     "data": {
      "text/html": [
       "<div>\n",
       "<style scoped>\n",
       "    .dataframe tbody tr th:only-of-type {\n",
       "        vertical-align: middle;\n",
       "    }\n",
       "\n",
       "    .dataframe tbody tr th {\n",
       "        vertical-align: top;\n",
       "    }\n",
       "\n",
       "    .dataframe thead th {\n",
       "        text-align: right;\n",
       "    }\n",
       "</style>\n",
       "<table border=\"1\" class=\"dataframe\">\n",
       "  <thead>\n",
       "    <tr style=\"text-align: right;\">\n",
       "      <th></th>\n",
       "      <th>name</th>\n",
       "      <th>roles</th>\n",
       "      <th>salary</th>\n",
       "    </tr>\n",
       "  </thead>\n",
       "  <tbody>\n",
       "    <tr>\n",
       "      <th>a</th>\n",
       "      <td>Rahul</td>\n",
       "      <td>IT</td>\n",
       "      <td>100</td>\n",
       "    </tr>\n",
       "    <tr>\n",
       "      <th>b</th>\n",
       "      <td>Sakshi</td>\n",
       "      <td>IT</td>\n",
       "      <td>200</td>\n",
       "    </tr>\n",
       "    <tr>\n",
       "      <th>c</th>\n",
       "      <td>Amit</td>\n",
       "      <td>HR</td>\n",
       "      <td>150</td>\n",
       "    </tr>\n",
       "    <tr>\n",
       "      <th>d</th>\n",
       "      <td>Dhruv</td>\n",
       "      <td>finance</td>\n",
       "      <td>120</td>\n",
       "    </tr>\n",
       "    <tr>\n",
       "      <th>e</th>\n",
       "      <td>Dhruvi</td>\n",
       "      <td>HR</td>\n",
       "      <td>400</td>\n",
       "    </tr>\n",
       "  </tbody>\n",
       "</table>\n",
       "</div>"
      ],
      "text/plain": [
       "     name    roles  salary\n",
       "a   Rahul       IT     100\n",
       "b  Sakshi       IT     200\n",
       "c    Amit       HR     150\n",
       "d   Dhruv  finance     120\n",
       "e  Dhruvi       HR     400"
      ]
     },
     "execution_count": 24,
     "metadata": {},
     "output_type": "execute_result"
    }
   ],
   "source": [
    "df = pd.DataFrame(data, index=list('abcde'))\n",
    "df"
   ]
  },
  {
   "cell_type": "code",
   "execution_count": 20,
   "id": "c3794a27-581b-4131-a52a-31477e8129db",
   "metadata": {},
   "outputs": [
    {
     "data": {
      "text/plain": [
       "pandas.core.frame.DataFrame"
      ]
     },
     "execution_count": 20,
     "metadata": {},
     "output_type": "execute_result"
    }
   ],
   "source": [
    "type(df)"
   ]
  },
  {
   "cell_type": "code",
   "execution_count": 25,
   "id": "530ff86d-1f83-46f7-ba52-55ce0b7a86ab",
   "metadata": {},
   "outputs": [
    {
     "data": {
      "text/plain": [
       "Index(['a', 'b', 'c', 'd', 'e'], dtype='object')"
      ]
     },
     "execution_count": 25,
     "metadata": {},
     "output_type": "execute_result"
    }
   ],
   "source": [
    "df.index"
   ]
  },
  {
   "cell_type": "code",
   "execution_count": null,
   "id": "0c99d673-e49b-47f3-b488-688dbea75c29",
   "metadata": {},
   "outputs": [],
   "source": []
  },
  {
   "cell_type": "code",
   "execution_count": null,
   "id": "c0020d5b-8e90-492a-a368-299399ad459b",
   "metadata": {},
   "outputs": [],
   "source": []
  },
  {
   "cell_type": "code",
   "execution_count": null,
   "id": "0cb3c6d5-d962-44c0-a2f1-79a5847831d0",
   "metadata": {},
   "outputs": [],
   "source": []
  },
  {
   "cell_type": "code",
   "execution_count": null,
   "id": "1c1c8d6d-a45b-497b-b46d-1a342484acdd",
   "metadata": {},
   "outputs": [],
   "source": []
  },
  {
   "cell_type": "code",
   "execution_count": null,
   "id": "d9de9369-40c1-47ee-9266-7c074d091d9f",
   "metadata": {},
   "outputs": [],
   "source": []
  },
  {
   "cell_type": "code",
   "execution_count": null,
   "id": "902eaca1-aaa0-4666-bfb5-b71662fd6e2c",
   "metadata": {},
   "outputs": [],
   "source": []
  },
  {
   "cell_type": "code",
   "execution_count": null,
   "id": "6278591c-a666-4c99-a525-8351ba6b304f",
   "metadata": {},
   "outputs": [],
   "source": []
  },
  {
   "cell_type": "code",
   "execution_count": null,
   "id": "b3e53959-474e-45f5-9e13-65f7cb9bdbfb",
   "metadata": {},
   "outputs": [],
   "source": []
  },
  {
   "cell_type": "code",
   "execution_count": null,
   "id": "424578e3-220b-45b3-b051-d864bd95914b",
   "metadata": {},
   "outputs": [],
   "source": []
  },
  {
   "cell_type": "code",
   "execution_count": null,
   "id": "c8bd35b7-0399-4744-b747-e0da6c853318",
   "metadata": {},
   "outputs": [],
   "source": []
  },
  {
   "cell_type": "code",
   "execution_count": null,
   "id": "1630cff6-6d86-42a2-81f1-4fcda7b15966",
   "metadata": {},
   "outputs": [],
   "source": []
  },
  {
   "cell_type": "code",
   "execution_count": null,
   "id": "fff09e98-2d78-46d9-8538-99fba34d76b2",
   "metadata": {},
   "outputs": [],
   "source": []
  },
  {
   "cell_type": "code",
   "execution_count": null,
   "id": "04d86774-c4ae-49ee-ab11-a4baa74d6f4e",
   "metadata": {},
   "outputs": [],
   "source": []
  }
 ],
 "metadata": {
  "kernelspec": {
   "display_name": "Python 3 (ipykernel)",
   "language": "python",
   "name": "python3"
  },
  "language_info": {
   "codemirror_mode": {
    "name": "ipython",
    "version": 3
   },
   "file_extension": ".py",
   "mimetype": "text/x-python",
   "name": "python",
   "nbconvert_exporter": "python",
   "pygments_lexer": "ipython3",
   "version": "3.12.3"
  }
 },
 "nbformat": 4,
 "nbformat_minor": 5
}
