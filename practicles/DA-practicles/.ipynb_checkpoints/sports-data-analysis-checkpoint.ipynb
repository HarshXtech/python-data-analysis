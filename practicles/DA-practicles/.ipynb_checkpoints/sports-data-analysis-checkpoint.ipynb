{
 "cells": [
  {
   "cell_type": "code",
   "execution_count": 1,
   "id": "35735b74-7f8f-4eef-82a4-5d84c1fcdbf6",
   "metadata": {},
   "outputs": [],
   "source": [
    "import numpy as np\n",
    "import pandas as pd\n",
    "import matplotlib.pyplot as plt"
   ]
  },
  {
   "cell_type": "code",
   "execution_count": 3,
   "id": "919b46ed-5c95-4e7a-a159-bf28f9466a6f",
   "metadata": {},
   "outputs": [
    {
     "data": {
      "text/html": [
       "<div>\n",
       "<style scoped>\n",
       "    .dataframe tbody tr th:only-of-type {\n",
       "        vertical-align: middle;\n",
       "    }\n",
       "\n",
       "    .dataframe tbody tr th {\n",
       "        vertical-align: top;\n",
       "    }\n",
       "\n",
       "    .dataframe thead th {\n",
       "        text-align: right;\n",
       "    }\n",
       "</style>\n",
       "<table border=\"1\" class=\"dataframe\">\n",
       "  <thead>\n",
       "    <tr style=\"text-align: right;\">\n",
       "      <th></th>\n",
       "      <th>Unnamed: 0</th>\n",
       "      <th>Athlete_ID</th>\n",
       "      <th>Name</th>\n",
       "      <th>Age</th>\n",
       "      <th>Gender</th>\n",
       "      <th>Sport</th>\n",
       "      <th>Height_cm</th>\n",
       "      <th>Weight_kg</th>\n",
       "      <th>Best_Performance</th>\n",
       "      <th>Medals_Won</th>\n",
       "    </tr>\n",
       "  </thead>\n",
       "  <tbody>\n",
       "    <tr>\n",
       "      <th>0</th>\n",
       "      <td>0</td>\n",
       "      <td>1000</td>\n",
       "      <td>Taylor</td>\n",
       "      <td>20</td>\n",
       "      <td>Male</td>\n",
       "      <td>Long Jump</td>\n",
       "      <td>169</td>\n",
       "      <td>92</td>\n",
       "      <td>7.06</td>\n",
       "      <td>3</td>\n",
       "    </tr>\n",
       "    <tr>\n",
       "      <th>1</th>\n",
       "      <td>1</td>\n",
       "      <td>1001</td>\n",
       "      <td>Alex</td>\n",
       "      <td>33</td>\n",
       "      <td>Female</td>\n",
       "      <td>Shot Put</td>\n",
       "      <td>164</td>\n",
       "      <td>86</td>\n",
       "      <td>17.79</td>\n",
       "      <td>1</td>\n",
       "    </tr>\n",
       "    <tr>\n",
       "      <th>2</th>\n",
       "      <td>2</td>\n",
       "      <td>1002</td>\n",
       "      <td>Taylor</td>\n",
       "      <td>25</td>\n",
       "      <td>Male</td>\n",
       "      <td>Sprint</td>\n",
       "      <td>197</td>\n",
       "      <td>106</td>\n",
       "      <td>11.49</td>\n",
       "      <td>2</td>\n",
       "    </tr>\n",
       "    <tr>\n",
       "      <th>3</th>\n",
       "      <td>3</td>\n",
       "      <td>1003</td>\n",
       "      <td>Jamie</td>\n",
       "      <td>19</td>\n",
       "      <td>Female</td>\n",
       "      <td>High Jump</td>\n",
       "      <td>180</td>\n",
       "      <td>77</td>\n",
       "      <td>1.71</td>\n",
       "      <td>3</td>\n",
       "    </tr>\n",
       "    <tr>\n",
       "      <th>4</th>\n",
       "      <td>4</td>\n",
       "      <td>1004</td>\n",
       "      <td>Jamie</td>\n",
       "      <td>31</td>\n",
       "      <td>Male</td>\n",
       "      <td>Sprint</td>\n",
       "      <td>165</td>\n",
       "      <td>93</td>\n",
       "      <td>13.75</td>\n",
       "      <td>2</td>\n",
       "    </tr>\n",
       "    <tr>\n",
       "      <th>...</th>\n",
       "      <td>...</td>\n",
       "      <td>...</td>\n",
       "      <td>...</td>\n",
       "      <td>...</td>\n",
       "      <td>...</td>\n",
       "      <td>...</td>\n",
       "      <td>...</td>\n",
       "      <td>...</td>\n",
       "      <td>...</td>\n",
       "      <td>...</td>\n",
       "    </tr>\n",
       "    <tr>\n",
       "      <th>95</th>\n",
       "      <td>95</td>\n",
       "      <td>1095</td>\n",
       "      <td>Riley</td>\n",
       "      <td>28</td>\n",
       "      <td>Female</td>\n",
       "      <td>Sprint</td>\n",
       "      <td>159</td>\n",
       "      <td>74</td>\n",
       "      <td>13.76</td>\n",
       "      <td>3</td>\n",
       "    </tr>\n",
       "    <tr>\n",
       "      <th>96</th>\n",
       "      <td>96</td>\n",
       "      <td>1096</td>\n",
       "      <td>Jordan</td>\n",
       "      <td>26</td>\n",
       "      <td>Female</td>\n",
       "      <td>Shot Put</td>\n",
       "      <td>157</td>\n",
       "      <td>106</td>\n",
       "      <td>18.51</td>\n",
       "      <td>3</td>\n",
       "    </tr>\n",
       "    <tr>\n",
       "      <th>97</th>\n",
       "      <td>97</td>\n",
       "      <td>1097</td>\n",
       "      <td>Morgan</td>\n",
       "      <td>22</td>\n",
       "      <td>Male</td>\n",
       "      <td>Sprint</td>\n",
       "      <td>186</td>\n",
       "      <td>80</td>\n",
       "      <td>11.23</td>\n",
       "      <td>1</td>\n",
       "    </tr>\n",
       "    <tr>\n",
       "      <th>98</th>\n",
       "      <td>98</td>\n",
       "      <td>1098</td>\n",
       "      <td>Quinn</td>\n",
       "      <td>22</td>\n",
       "      <td>Male</td>\n",
       "      <td>Sprint</td>\n",
       "      <td>166</td>\n",
       "      <td>97</td>\n",
       "      <td>13.88</td>\n",
       "      <td>2</td>\n",
       "    </tr>\n",
       "    <tr>\n",
       "      <th>99</th>\n",
       "      <td>99</td>\n",
       "      <td>1099</td>\n",
       "      <td>Jamie</td>\n",
       "      <td>33</td>\n",
       "      <td>Female</td>\n",
       "      <td>Sprint</td>\n",
       "      <td>157</td>\n",
       "      <td>64</td>\n",
       "      <td>10.87</td>\n",
       "      <td>1</td>\n",
       "    </tr>\n",
       "  </tbody>\n",
       "</table>\n",
       "<p>100 rows × 10 columns</p>\n",
       "</div>"
      ],
      "text/plain": [
       "    Unnamed: 0  Athlete_ID    Name  Age  Gender      Sport  Height_cm  \\\n",
       "0            0        1000  Taylor   20    Male  Long Jump        169   \n",
       "1            1        1001    Alex   33  Female   Shot Put        164   \n",
       "2            2        1002  Taylor   25    Male     Sprint        197   \n",
       "3            3        1003   Jamie   19  Female  High Jump        180   \n",
       "4            4        1004   Jamie   31    Male     Sprint        165   \n",
       "..         ...         ...     ...  ...     ...        ...        ...   \n",
       "95          95        1095   Riley   28  Female     Sprint        159   \n",
       "96          96        1096  Jordan   26  Female   Shot Put        157   \n",
       "97          97        1097  Morgan   22    Male     Sprint        186   \n",
       "98          98        1098   Quinn   22    Male     Sprint        166   \n",
       "99          99        1099   Jamie   33  Female     Sprint        157   \n",
       "\n",
       "    Weight_kg  Best_Performance  Medals_Won  \n",
       "0          92              7.06           3  \n",
       "1          86             17.79           1  \n",
       "2         106             11.49           2  \n",
       "3          77              1.71           3  \n",
       "4          93             13.75           2  \n",
       "..        ...               ...         ...  \n",
       "95         74             13.76           3  \n",
       "96        106             18.51           3  \n",
       "97         80             11.23           1  \n",
       "98         97             13.88           2  \n",
       "99         64             10.87           1  \n",
       "\n",
       "[100 rows x 10 columns]"
      ]
     },
     "execution_count": 3,
     "metadata": {},
     "output_type": "execute_result"
    }
   ],
   "source": [
    "df = pd.read_csv('project-5-sport-data.csv')\n",
    "df"
   ]
  },
  {
   "cell_type": "markdown",
   "id": "ea00323d-5da7-478b-a3a1-1e4fd6f95a09",
   "metadata": {},
   "source": [
    "### What is the average age, height, and weight of athletes by sport?"
   ]
  },
  {
   "cell_type": "code",
   "execution_count": 5,
   "id": "7054a6ff-7a5f-4342-b6a5-e86198085678",
   "metadata": {},
   "outputs": [
    {
     "data": {
      "text/html": [
       "<div>\n",
       "<style scoped>\n",
       "    .dataframe tbody tr th:only-of-type {\n",
       "        vertical-align: middle;\n",
       "    }\n",
       "\n",
       "    .dataframe tbody tr th {\n",
       "        vertical-align: top;\n",
       "    }\n",
       "\n",
       "    .dataframe thead th {\n",
       "        text-align: right;\n",
       "    }\n",
       "</style>\n",
       "<table border=\"1\" class=\"dataframe\">\n",
       "  <thead>\n",
       "    <tr style=\"text-align: right;\">\n",
       "      <th></th>\n",
       "      <th>Age</th>\n",
       "      <th>Height_cm</th>\n",
       "      <th>Weight_kg</th>\n",
       "    </tr>\n",
       "    <tr>\n",
       "      <th>Sport</th>\n",
       "      <th></th>\n",
       "      <th></th>\n",
       "      <th></th>\n",
       "    </tr>\n",
       "  </thead>\n",
       "  <tbody>\n",
       "    <tr>\n",
       "      <th>High Jump</th>\n",
       "      <td>25.000000</td>\n",
       "      <td>177.750000</td>\n",
       "      <td>80.208333</td>\n",
       "    </tr>\n",
       "    <tr>\n",
       "      <th>Long Jump</th>\n",
       "      <td>26.636364</td>\n",
       "      <td>171.909091</td>\n",
       "      <td>79.500000</td>\n",
       "    </tr>\n",
       "    <tr>\n",
       "      <th>Shot Put</th>\n",
       "      <td>25.900000</td>\n",
       "      <td>172.333333</td>\n",
       "      <td>79.933333</td>\n",
       "    </tr>\n",
       "    <tr>\n",
       "      <th>Sprint</th>\n",
       "      <td>27.083333</td>\n",
       "      <td>176.166667</td>\n",
       "      <td>84.083333</td>\n",
       "    </tr>\n",
       "  </tbody>\n",
       "</table>\n",
       "</div>"
      ],
      "text/plain": [
       "                 Age   Height_cm  Weight_kg\n",
       "Sport                                      \n",
       "High Jump  25.000000  177.750000  80.208333\n",
       "Long Jump  26.636364  171.909091  79.500000\n",
       "Shot Put   25.900000  172.333333  79.933333\n",
       "Sprint     27.083333  176.166667  84.083333"
      ]
     },
     "execution_count": 5,
     "metadata": {},
     "output_type": "execute_result"
    }
   ],
   "source": [
    "df.groupby('Sport')[['Age', 'Height_cm', 'Weight_kg']].mean()"
   ]
  },
  {
   "cell_type": "code",
   "execution_count": null,
   "id": "946cdfbd-ec35-4f8a-afe3-0c5aafeda7f7",
   "metadata": {},
   "outputs": [],
   "source": []
  },
  {
   "cell_type": "markdown",
   "id": "0de687ef-787e-4cfc-b0f8-307f91c961fb",
   "metadata": {},
   "source": [
    "### Which sport has the highest average performance (in terms of ranking — lower time or higher distance)?"
   ]
  },
  {
   "cell_type": "code",
   "execution_count": 6,
   "id": "7de9a28b-3014-42f6-b88e-765488ac84e5",
   "metadata": {},
   "outputs": [
    {
     "data": {
      "text/plain": [
       "Sport\n",
       "High Jump     1.993750\n",
       "Long Jump     6.792273\n",
       "Shot Put     18.035000\n",
       "Sprint       12.185833\n",
       "Name: Best_Performance, dtype: float64"
      ]
     },
     "execution_count": 6,
     "metadata": {},
     "output_type": "execute_result"
    }
   ],
   "source": [
    "df.groupby('Sport')['Best_Performance'].mean()"
   ]
  },
  {
   "cell_type": "code",
   "execution_count": null,
   "id": "aad80530-a630-4ea7-91c0-6c6eb046e8f3",
   "metadata": {},
   "outputs": [],
   "source": []
  },
  {
   "cell_type": "markdown",
   "id": "759b0278-783c-4bb9-8f84-126c9431e05a",
   "metadata": {},
   "source": [
    "### What is the distribution of athletes across sports?"
   ]
  },
  {
   "cell_type": "code",
   "execution_count": 10,
   "id": "982a3b49-520d-4030-ace4-4b2df3f78979",
   "metadata": {},
   "outputs": [
    {
     "data": {
      "image/png": "[encoded data removed]",
      "text/plain": [
       "<Figure size 640x480 with 1 Axes>"
      ]
     },
     "metadata": {},
     "output_type": "display_data"
    }
   ],
   "source": [
    "num_dist = df['Sport'].value_counts()\n",
    "num_dist.plot(kind='bar')\n",
    "plt.grid()"
   ]
  },
  {
   "cell_type": "code",
   "execution_count": null,
   "id": "e9533f26-971b-4676-b9c2-4925c18658b7",
   "metadata": {},
   "outputs": [],
   "source": []
  },
  {
   "cell_type": "markdown",
   "id": "cd444d74-4b43-433b-b245-83f75eea2034",
   "metadata": {},
   "source": [
    "### Is there a correlation between height and performance in high jump?"
   ]
  },
  {
   "cell_type": "code",
   "execution_count": null,
   "id": "1bbf652a-6fdd-4710-b830-9b5c7f119622",
   "metadata": {},
   "outputs": [],
   "source": [
    "# .corr"
   ]
  },
  {
   "cell_type": "code",
   "execution_count": null,
   "id": "15348451-c8ad-4146-9cf0-08ea532873e0",
   "metadata": {},
   "outputs": [],
   "source": []
  },
  {
   "cell_type": "markdown",
   "id": "b68505ad-f698-47cd-a7f2-2a50ca5c6831",
   "metadata": {},
   "source": [
    "### What is the average weight of male vs female athletes?"
   ]
  },
  {
   "cell_type": "code",
   "execution_count": 11,
   "id": "6b40ebda-f28a-46a2-a5dc-5e6d2e370e46",
   "metadata": {},
   "outputs": [
    {
     "data": {
      "text/plain": [
       "Gender\n",
       "Female    80.040816\n",
       "Male      81.725490\n",
       "Name: Weight_kg, dtype: float64"
      ]
     },
     "execution_count": 11,
     "metadata": {},
     "output_type": "execute_result"
    }
   ],
   "source": [
    "df.groupby('Gender')['Weight_kg'].mean()"
   ]
  },
  {
   "cell_type": "code",
   "execution_count": null,
   "id": "42686024-577b-4428-9708-c1b856903c4f",
   "metadata": {},
   "outputs": [],
   "source": []
  },
  {
   "cell_type": "markdown",
   "id": "bed75e62-8ea6-4e9d-8686-3d205d62a3e6",
   "metadata": {},
   "source": [
    "### Among sprinters, what’s the distribution of 100m times?"
   ]
  },
  {
   "cell_type": "code",
   "execution_count": 13,
   "id": "9e1c73e0-b4cd-40ca-bbb6-2ece6ba73fa3",
   "metadata": {},
   "outputs": [],
   "source": [
    "sprint = df[df['Sport'] == \"Sprint\"]"
   ]
  },
  {
   "cell_type": "code",
   "execution_count": 16,
   "id": "d1c114a2-262a-4bee-b886-3d3780371965",
   "metadata": {},
   "outputs": [
    {
     "data": {
      "text/plain": [
       "<Axes: ylabel='Frequency'>"
      ]
     },
     "execution_count": 16,
     "metadata": {},
     "output_type": "execute_result"
    },
    {
     "data": {
      "image/png": "[encoded data removed]",
      "text/plain": [
       "<Figure size 640x480 with 1 Axes>"
      ]
     },
     "metadata": {},
     "output_type": "display_data"
    }
   ],
   "source": [
    "sprint.plot(kind=\"hist\")"
   ]
  },
  {
   "cell_type": "markdown",
   "id": "d889c536-ea4a-4c19-ad95-31611f0a0e96",
   "metadata": {},
   "source": [
    "### Which athlete(s) has/have won the most medals?"
   ]
  },
  {
   "cell_type": "code",
   "execution_count": null,
   "id": "a37525c1-b61b-4172-8cae-c22fd472b862",
   "metadata": {},
   "outputs": [],
   "source": [
    "# max\n",
    "\n",
    "# idxmax, idxmin"
   ]
  },
  {
   "cell_type": "code",
   "execution_count": null,
   "id": "116a4880-a304-4318-98a3-6d9d3c5ded1e",
   "metadata": {},
   "outputs": [],
   "source": []
  },
  {
   "cell_type": "markdown",
   "id": "686b1b26-fa8d-4d69-a6e3-35c8d74475b0",
   "metadata": {},
   "source": [
    "### Create a box plot of best performance grouped by sport."
   ]
  },
  {
   "cell_type": "code",
   "execution_count": null,
   "id": "e533e3dc-c074-451b-9c99-a17eb15493f4",
   "metadata": {},
   "outputs": [],
   "source": []
  },
  {
   "cell_type": "code",
   "execution_count": null,
   "id": "671a15a4-c7ba-4585-8c63-4a7e8179e519",
   "metadata": {},
   "outputs": [],
   "source": []
  },
  {
   "cell_type": "markdown",
   "id": "ad3a30e7-0115-46d8-ad8e-19dfcb15be7b",
   "metadata": {},
   "source": [
    "### What’s the gender distribution in each sport?"
   ]
  },
  {
   "cell_type": "code",
   "execution_count": null,
   "id": "ad57f4a4-1e69-4c6c-bcbd-c15f025bc50c",
   "metadata": {},
   "outputs": [],
   "source": []
  },
  {
   "cell_type": "code",
   "execution_count": null,
   "id": "f56752f6-c44a-40cd-a344-c7c4f58ce7a7",
   "metadata": {},
   "outputs": [],
   "source": []
  },
  {
   "cell_type": "markdown",
   "id": "3fdbacb4-6ddb-4397-afc1-14f533ae5e2d",
   "metadata": {},
   "source": [
    "### Is there a trend between age and number of medals won?"
   ]
  },
  {
   "cell_type": "code",
   "execution_count": null,
   "id": "c158d029-5459-4d0d-ac0d-e77a39c26974",
   "metadata": {},
   "outputs": [],
   "source": []
  },
  {
   "cell_type": "code",
   "execution_count": null,
   "id": "685e3c22-6a08-48a9-9a70-1d22ccb7cc22",
   "metadata": {},
   "outputs": [],
   "source": []
  }
 ],
 "metadata": {
  "kernelspec": {
   "display_name": "Python 3 (ipykernel)",
   "language": "python",
   "name": "python3"
  },
  "language_info": {
   "codemirror_mode": {
    "name": "ipython",
    "version": 3
   },
   "file_extension": ".py",
   "mimetype": "text/x-python",
   "name": "python",
   "nbconvert_exporter": "python",
   "pygments_lexer": "ipython3",
   "version": "3.12.3"
  }
 },
 "nbformat": 4,
 "nbformat_minor": 5
}
