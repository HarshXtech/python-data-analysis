{
 "cells": [
  {
   "cell_type": "code",
   "execution_count": 15,
   "id": "e3677fd6-0d11-4964-ba15-d3f1070266e9",
   "metadata": {},
   "outputs": [
    {
     "data": {
      "text/html": [
       "<div>\n",
       "<style scoped>\n",
       "    .dataframe tbody tr th:only-of-type {\n",
       "        vertical-align: middle;\n",
       "    }\n",
       "\n",
       "    .dataframe tbody tr th {\n",
       "        vertical-align: top;\n",
       "    }\n",
       "\n",
       "    .dataframe thead th {\n",
       "        text-align: right;\n",
       "    }\n",
       "</style>\n",
       "<table border=\"1\" class=\"dataframe\">\n",
       "  <thead>\n",
       "    <tr style=\"text-align: right;\">\n",
       "      <th></th>\n",
       "      <th>Unnamed: 0</th>\n",
       "      <th>Patient_ID</th>\n",
       "      <th>Age</th>\n",
       "      <th>Gender</th>\n",
       "      <th>Blood_Pressure</th>\n",
       "      <th>Cholesterol</th>\n",
       "      <th>Diabetic</th>\n",
       "      <th>Smoker</th>\n",
       "      <th>Heart_Disease</th>\n",
       "    </tr>\n",
       "  </thead>\n",
       "  <tbody>\n",
       "    <tr>\n",
       "      <th>0</th>\n",
       "      <td>0</td>\n",
       "      <td>1000</td>\n",
       "      <td>58</td>\n",
       "      <td>Female</td>\n",
       "      <td>104</td>\n",
       "      <td>256</td>\n",
       "      <td>No</td>\n",
       "      <td>No</td>\n",
       "      <td>Yes</td>\n",
       "    </tr>\n",
       "    <tr>\n",
       "      <th>1</th>\n",
       "      <td>1</td>\n",
       "      <td>1001</td>\n",
       "      <td>77</td>\n",
       "      <td>Male</td>\n",
       "      <td>176</td>\n",
       "      <td>224</td>\n",
       "      <td>No</td>\n",
       "      <td>No</td>\n",
       "      <td>Yes</td>\n",
       "    </tr>\n",
       "    <tr>\n",
       "      <th>2</th>\n",
       "      <td>2</td>\n",
       "      <td>1002</td>\n",
       "      <td>59</td>\n",
       "      <td>Female</td>\n",
       "      <td>92</td>\n",
       "      <td>299</td>\n",
       "      <td>Yes</td>\n",
       "      <td>No</td>\n",
       "      <td>Yes</td>\n",
       "    </tr>\n",
       "    <tr>\n",
       "      <th>3</th>\n",
       "      <td>3</td>\n",
       "      <td>1003</td>\n",
       "      <td>49</td>\n",
       "      <td>Female</td>\n",
       "      <td>91</td>\n",
       "      <td>170</td>\n",
       "      <td>No</td>\n",
       "      <td>No</td>\n",
       "      <td>No</td>\n",
       "    </tr>\n",
       "    <tr>\n",
       "      <th>4</th>\n",
       "      <td>4</td>\n",
       "      <td>1004</td>\n",
       "      <td>63</td>\n",
       "      <td>Male</td>\n",
       "      <td>138</td>\n",
       "      <td>208</td>\n",
       "      <td>No</td>\n",
       "      <td>Yes</td>\n",
       "      <td>No</td>\n",
       "    </tr>\n",
       "    <tr>\n",
       "      <th>...</th>\n",
       "      <td>...</td>\n",
       "      <td>...</td>\n",
       "      <td>...</td>\n",
       "      <td>...</td>\n",
       "      <td>...</td>\n",
       "      <td>...</td>\n",
       "      <td>...</td>\n",
       "      <td>...</td>\n",
       "      <td>...</td>\n",
       "    </tr>\n",
       "    <tr>\n",
       "      <th>295</th>\n",
       "      <td>295</td>\n",
       "      <td>1295</td>\n",
       "      <td>24</td>\n",
       "      <td>Female</td>\n",
       "      <td>130</td>\n",
       "      <td>211</td>\n",
       "      <td>Yes</td>\n",
       "      <td>No</td>\n",
       "      <td>Yes</td>\n",
       "    </tr>\n",
       "    <tr>\n",
       "      <th>296</th>\n",
       "      <td>296</td>\n",
       "      <td>1296</td>\n",
       "      <td>33</td>\n",
       "      <td>Female</td>\n",
       "      <td>178</td>\n",
       "      <td>233</td>\n",
       "      <td>No</td>\n",
       "      <td>Yes</td>\n",
       "      <td>Yes</td>\n",
       "    </tr>\n",
       "    <tr>\n",
       "      <th>297</th>\n",
       "      <td>297</td>\n",
       "      <td>1297</td>\n",
       "      <td>78</td>\n",
       "      <td>Male</td>\n",
       "      <td>117</td>\n",
       "      <td>215</td>\n",
       "      <td>No</td>\n",
       "      <td>Yes</td>\n",
       "      <td>No</td>\n",
       "    </tr>\n",
       "    <tr>\n",
       "      <th>298</th>\n",
       "      <td>298</td>\n",
       "      <td>1298</td>\n",
       "      <td>20</td>\n",
       "      <td>Female</td>\n",
       "      <td>165</td>\n",
       "      <td>194</td>\n",
       "      <td>Yes</td>\n",
       "      <td>Yes</td>\n",
       "      <td>Yes</td>\n",
       "    </tr>\n",
       "    <tr>\n",
       "      <th>299</th>\n",
       "      <td>299</td>\n",
       "      <td>1299</td>\n",
       "      <td>29</td>\n",
       "      <td>Male</td>\n",
       "      <td>103</td>\n",
       "      <td>229</td>\n",
       "      <td>No</td>\n",
       "      <td>No</td>\n",
       "      <td>No</td>\n",
       "    </tr>\n",
       "  </tbody>\n",
       "</table>\n",
       "<p>300 rows × 9 columns</p>\n",
       "</div>"
      ],
      "text/plain": [
       "     Unnamed: 0  Patient_ID  Age  Gender  Blood_Pressure  Cholesterol  \\\n",
       "0             0        1000   58  Female             104          256   \n",
       "1             1        1001   77    Male             176          224   \n",
       "2             2        1002   59  Female              92          299   \n",
       "3             3        1003   49  Female              91          170   \n",
       "4             4        1004   63    Male             138          208   \n",
       "..          ...         ...  ...     ...             ...          ...   \n",
       "295         295        1295   24  Female             130          211   \n",
       "296         296        1296   33  Female             178          233   \n",
       "297         297        1297   78    Male             117          215   \n",
       "298         298        1298   20  Female             165          194   \n",
       "299         299        1299   29    Male             103          229   \n",
       "\n",
       "    Diabetic Smoker Heart_Disease  \n",
       "0         No     No           Yes  \n",
       "1         No     No           Yes  \n",
       "2        Yes     No           Yes  \n",
       "3         No     No            No  \n",
       "4         No    Yes            No  \n",
       "..       ...    ...           ...  \n",
       "295      Yes     No           Yes  \n",
       "296       No    Yes           Yes  \n",
       "297       No    Yes            No  \n",
       "298      Yes    Yes           Yes  \n",
       "299       No     No            No  \n",
       "\n",
       "[300 rows x 9 columns]"
      ]
     },
     "execution_count": 15,
     "metadata": {},
     "output_type": "execute_result"
    }
   ],
   "source": [
    "import numpy as np\n",
    "import pandas as pd\n",
    "import matplotlib.pyplot as plt\n",
    "\n",
    "df = pd.read_csv('project-4-health-care-data.csv')\n",
    "df"
   ]
  },
  {
   "cell_type": "markdown",
   "id": "e2c58d13-f28a-4af9-8828-cfc1573c5f54",
   "metadata": {},
   "source": [
    "### What is the average age of patients with heart disease?"
   ]
  },
  {
   "cell_type": "code",
   "execution_count": 8,
   "id": "7c7e9293-c4a9-4b23-9617-3503fac1bb09",
   "metadata": {},
   "outputs": [
    {
     "data": {
      "text/plain": [
       "np.float64(46.54424778761062)"
      ]
     },
     "execution_count": 8,
     "metadata": {},
     "output_type": "execute_result"
    }
   ],
   "source": [
    "df[df['Heart_Disease'] == \"Yes\"]['Age'].mean()"
   ]
  },
  {
   "cell_type": "code",
   "execution_count": 9,
   "id": "8170abd2-175d-4b28-b2a6-b00134c9db51",
   "metadata": {},
   "outputs": [
    {
     "data": {
      "text/plain": [
       "Heart_Disease\n",
       "No     51.635135\n",
       "Yes    46.544248\n",
       "Name: Age, dtype: float64"
      ]
     },
     "execution_count": 9,
     "metadata": {},
     "output_type": "execute_result"
    }
   ],
   "source": [
    "df.groupby('Heart_Disease')['Age'].mean()"
   ]
  },
  {
   "cell_type": "markdown",
   "id": "9ad26bed-64eb-410f-a8a5-cda9766da3cc",
   "metadata": {},
   "source": [
    "### How many patients have heart disease? What’s the percentage?"
   ]
  },
  {
   "cell_type": "code",
   "execution_count": 13,
   "id": "dd37bfa4-a9f6-4d3e-89f2-4c4a5afa4f12",
   "metadata": {},
   "outputs": [
    {
     "data": {
      "text/plain": [
       "Heart_Disease\n",
       "Yes    75.333333\n",
       "No     24.666667\n",
       "Name: proportion, dtype: float64"
      ]
     },
     "execution_count": 13,
     "metadata": {},
     "output_type": "execute_result"
    }
   ],
   "source": [
    "count_hd = df['Heart_Disease'].value_counts() \n",
    "count_hd_pr = df['Heart_Disease'].value_counts(normalize=True) * 100\n",
    "count_hd_pr"
   ]
  },
  {
   "cell_type": "code",
   "execution_count": null,
   "id": "4e27e62d-93d3-445e-83f9-df2c40dec16a",
   "metadata": {},
   "outputs": [],
   "source": []
  },
  {
   "cell_type": "markdown",
   "id": "4381afb8-a09e-481f-b3f6-bacd5036aee2",
   "metadata": {},
   "source": [
    "### What is the average blood pressure and cholesterol of diabetic vs non-diabetic patients?"
   ]
  },
  {
   "cell_type": "code",
   "execution_count": 16,
   "id": "5ceaa472-2249-4f95-803c-f49df1a07f5c",
   "metadata": {},
   "outputs": [
    {
     "data": {
      "text/html": [
       "<div>\n",
       "<style scoped>\n",
       "    .dataframe tbody tr th:only-of-type {\n",
       "        vertical-align: middle;\n",
       "    }\n",
       "\n",
       "    .dataframe tbody tr th {\n",
       "        vertical-align: top;\n",
       "    }\n",
       "\n",
       "    .dataframe thead th {\n",
       "        text-align: right;\n",
       "    }\n",
       "</style>\n",
       "<table border=\"1\" class=\"dataframe\">\n",
       "  <thead>\n",
       "    <tr style=\"text-align: right;\">\n",
       "      <th></th>\n",
       "      <th>Blood_Pressure</th>\n",
       "      <th>Cholesterol</th>\n",
       "    </tr>\n",
       "    <tr>\n",
       "      <th>Diabetic</th>\n",
       "      <th></th>\n",
       "      <th></th>\n",
       "    </tr>\n",
       "  </thead>\n",
       "  <tbody>\n",
       "    <tr>\n",
       "      <th>No</th>\n",
       "      <td>129.566667</td>\n",
       "      <td>229.095238</td>\n",
       "    </tr>\n",
       "    <tr>\n",
       "      <th>Yes</th>\n",
       "      <td>130.744444</td>\n",
       "      <td>239.000000</td>\n",
       "    </tr>\n",
       "  </tbody>\n",
       "</table>\n",
       "</div>"
      ],
      "text/plain": [
       "          Blood_Pressure  Cholesterol\n",
       "Diabetic                             \n",
       "No            129.566667   229.095238\n",
       "Yes           130.744444   239.000000"
      ]
     },
     "execution_count": 16,
     "metadata": {},
     "output_type": "execute_result"
    }
   ],
   "source": [
    "df.groupby('Diabetic')[['Blood_Pressure', 'Cholesterol']].mean()"
   ]
  },
  {
   "cell_type": "code",
   "execution_count": null,
   "id": "c8a7a5f4-eed8-4065-8f2a-4ddf7e8d4319",
   "metadata": {},
   "outputs": [],
   "source": []
  },
  {
   "cell_type": "markdown",
   "id": "4abe39b9-5346-488b-8225-da41691326db",
   "metadata": {},
   "source": [
    "### Is smoking related to a higher incidence of heart disease?"
   ]
  },
  {
   "cell_type": "code",
   "execution_count": 19,
   "id": "88549d36-ce6f-4418-8b5e-975575ff26b3",
   "metadata": {},
   "outputs": [
    {
     "data": {
      "text/html": [
       "<div>\n",
       "<style scoped>\n",
       "    .dataframe tbody tr th:only-of-type {\n",
       "        vertical-align: middle;\n",
       "    }\n",
       "\n",
       "    .dataframe tbody tr th {\n",
       "        vertical-align: top;\n",
       "    }\n",
       "\n",
       "    .dataframe thead th {\n",
       "        text-align: right;\n",
       "    }\n",
       "</style>\n",
       "<table border=\"1\" class=\"dataframe\">\n",
       "  <thead>\n",
       "    <tr style=\"text-align: right;\">\n",
       "      <th>Heart_Disease</th>\n",
       "      <th>No</th>\n",
       "      <th>Yes</th>\n",
       "    </tr>\n",
       "    <tr>\n",
       "      <th>Smoker</th>\n",
       "      <th></th>\n",
       "      <th></th>\n",
       "    </tr>\n",
       "  </thead>\n",
       "  <tbody>\n",
       "    <tr>\n",
       "      <th>No</th>\n",
       "      <td>19.000000</td>\n",
       "      <td>55.666667</td>\n",
       "    </tr>\n",
       "    <tr>\n",
       "      <th>Yes</th>\n",
       "      <td>5.666667</td>\n",
       "      <td>19.666667</td>\n",
       "    </tr>\n",
       "  </tbody>\n",
       "</table>\n",
       "</div>"
      ],
      "text/plain": [
       "Heart_Disease         No        Yes\n",
       "Smoker                             \n",
       "No             19.000000  55.666667\n",
       "Yes             5.666667  19.666667"
      ]
     },
     "execution_count": 19,
     "metadata": {},
     "output_type": "execute_result"
    }
   ],
   "source": [
    "pd.crosstab(df['Smoker'], df['Heart_Disease'], normalize=True) * 100\n",
    "\n",
    "# 19% of the patients are non-smoker with no heart-disease. \n",
    "# 55% of the patients are non-smoker but they have heart disease\n",
    "# 5.6% of the patients are smoker but they don't have heart disease\n",
    "# 19.66% of the patients are smoker with heart disease"
   ]
  },
  {
   "cell_type": "code",
   "execution_count": null,
   "id": "c6146e69-a9a2-4466-aec5-53ee0081ac42",
   "metadata": {},
   "outputs": [],
   "source": []
  },
  {
   "cell_type": "markdown",
   "id": "f5b5ffde-7606-4f48-8468-d49a255ba61c",
   "metadata": {},
   "source": [
    "### What’s the distribution of blood pressure across all patients?"
   ]
  },
  {
   "cell_type": "code",
   "execution_count": 22,
   "id": "70a274c4-2e72-4b38-b41a-1a7323d0aa9b",
   "metadata": {},
   "outputs": [
    {
     "data": {
      "text/plain": [
       "Text(0.5, 0, 'blood pressure (mmhg)')"
      ]
     },
     "execution_count": 22,
     "metadata": {},
     "output_type": "execute_result"
    },
    {
     "data": {
      "image/png": "[encoded data removed]",
      "text/plain": [
       "<Figure size 640x480 with 1 Axes>"
      ]
     },
     "metadata": {},
     "output_type": "display_data"
    }
   ],
   "source": [
    "df['Blood_Pressure'].plot(kind=\"hist\", edgecolor=\"black\")\n",
    "plt.xlabel('blood pressure (mmhg)')"
   ]
  },
  {
   "cell_type": "code",
   "execution_count": null,
   "id": "c2fa9719-2187-4219-adcc-c1ffb34383bd",
   "metadata": {},
   "outputs": [],
   "source": []
  },
  {
   "cell_type": "markdown",
   "id": "fdb0f344-308e-400d-9a39-d37a96f8a827",
   "metadata": {},
   "source": [
    "### What is the average cholesterol level by age group? (20–39, 40–59, 60+)"
   ]
  },
  {
   "cell_type": "code",
   "execution_count": null,
   "id": "86142731-5ca9-44b3-a100-ab7717e5a9ea",
   "metadata": {},
   "outputs": [],
   "source": [
    "# write a function to group ages\n",
    "# apply that function to the age column"
   ]
  },
  {
   "cell_type": "code",
   "execution_count": null,
   "id": "7fa3240e-c794-4bfa-991a-aa41ab656cff",
   "metadata": {},
   "outputs": [],
   "source": []
  },
  {
   "cell_type": "markdown",
   "id": "ca5fba97-09bf-44e2-83c7-f101488b3ce6",
   "metadata": {},
   "source": [
    "### Is there any gender difference in heart disease prevalence?"
   ]
  },
  {
   "cell_type": "code",
   "execution_count": 24,
   "id": "0dca3f43-ef3e-4df8-957d-dcaf24b75b40",
   "metadata": {},
   "outputs": [
    {
     "data": {
      "text/html": [
       "<div>\n",
       "<style scoped>\n",
       "    .dataframe tbody tr th:only-of-type {\n",
       "        vertical-align: middle;\n",
       "    }\n",
       "\n",
       "    .dataframe tbody tr th {\n",
       "        vertical-align: top;\n",
       "    }\n",
       "\n",
       "    .dataframe thead th {\n",
       "        text-align: right;\n",
       "    }\n",
       "</style>\n",
       "<table border=\"1\" class=\"dataframe\">\n",
       "  <thead>\n",
       "    <tr style=\"text-align: right;\">\n",
       "      <th>Heart_Disease</th>\n",
       "      <th>No</th>\n",
       "      <th>Yes</th>\n",
       "    </tr>\n",
       "    <tr>\n",
       "      <th>Gender</th>\n",
       "      <th></th>\n",
       "      <th></th>\n",
       "    </tr>\n",
       "  </thead>\n",
       "  <tbody>\n",
       "    <tr>\n",
       "      <th>Female</th>\n",
       "      <td>12.000000</td>\n",
       "      <td>38.333333</td>\n",
       "    </tr>\n",
       "    <tr>\n",
       "      <th>Male</th>\n",
       "      <td>12.666667</td>\n",
       "      <td>37.000000</td>\n",
       "    </tr>\n",
       "  </tbody>\n",
       "</table>\n",
       "</div>"
      ],
      "text/plain": [
       "Heart_Disease         No        Yes\n",
       "Gender                             \n",
       "Female         12.000000  38.333333\n",
       "Male           12.666667  37.000000"
      ]
     },
     "execution_count": 24,
     "metadata": {},
     "output_type": "execute_result"
    }
   ],
   "source": [
    "pd.crosstab(df['Gender'], df['Heart_Disease'],normalize=True) * 100\n",
    "\n",
    "## 36 female dont have heart disease\n",
    "# 115 female have heart disease"
   ]
  },
  {
   "cell_type": "code",
   "execution_count": null,
   "id": "e95dc79a-211e-4131-ac13-649fa87ff7fd",
   "metadata": {},
   "outputs": [],
   "source": []
  },
  {
   "cell_type": "code",
   "execution_count": null,
   "id": "8b908aec-c295-4e6e-b6a2-16e3eba00201",
   "metadata": {},
   "outputs": [],
   "source": []
  },
  {
   "cell_type": "markdown",
   "id": "b61fea32-06bd-4615-8a00-715795622968",
   "metadata": {},
   "source": [
    "### Create a scatter plot of cholesterol vs. blood pressure. Highlight heart disease cases."
   ]
  },
  {
   "cell_type": "code",
   "execution_count": 25,
   "id": "561251d4-a250-41fa-8806-1bccd0174919",
   "metadata": {},
   "outputs": [
    {
     "data": {
      "text/plain": [
       "<matplotlib.collections.PathCollection at 0x192c4fe47a0>"
      ]
     },
     "execution_count": 25,
     "metadata": {},
     "output_type": "execute_result"
    },
    {
     "data": {
      "image/png": "[encoded data removed]",
      "text/plain": [
       "<Figure size 640x480 with 1 Axes>"
      ]
     },
     "metadata": {},
     "output_type": "display_data"
    }
   ],
   "source": [
    "colors = df['Heart_Disease'].map({'Yes' : 'red', 'No' : 'green'})\n",
    "plt.scatter(df['Cholesterol'], df['Blood_Pressure'], c=colors)"
   ]
  },
  {
   "cell_type": "code",
   "execution_count": null,
   "id": "0aba7c6d-b90a-40f7-acd9-9e67ef05531a",
   "metadata": {},
   "outputs": [],
   "source": []
  },
  {
   "cell_type": "markdown",
   "id": "a5717155-0e14-4fec-aa45-679f553e3589",
   "metadata": {},
   "source": [
    "### Which group has the highest heart disease rate? (smoker + diabetic, only smoker, only diabetic, neither)"
   ]
  },
  {
   "cell_type": "code",
   "execution_count": null,
   "id": "d82df20e-bbeb-48c8-9b71-59c5aad33266",
   "metadata": {},
   "outputs": [],
   "source": []
  },
  {
   "cell_type": "code",
   "execution_count": null,
   "id": "691990d5-e48d-4b60-ae27-1a2e7f4ebfee",
   "metadata": {},
   "outputs": [],
   "source": []
  },
  {
   "cell_type": "markdown",
   "id": "0da93a6b-cbc4-4782-8a05-b6d7f6ce7041",
   "metadata": {},
   "source": [
    "### Plot a pie chart of the diabetic population."
   ]
  },
  {
   "cell_type": "code",
   "execution_count": null,
   "id": "0945c900-fcf3-43ad-8cd6-073cbaf15524",
   "metadata": {},
   "outputs": [],
   "source": []
  },
  {
   "cell_type": "code",
   "execution_count": null,
   "id": "9c93fd8e-9a84-4c85-8249-3f7698009d1e",
   "metadata": {},
   "outputs": [],
   "source": []
  }
 ],
 "metadata": {
  "kernelspec": {
   "display_name": "Python 3 (ipykernel)",
   "language": "python",
   "name": "python3"
  },
  "language_info": {
   "codemirror_mode": {
    "name": "ipython",
    "version": 3
   },
   "file_extension": ".py",
   "mimetype": "text/x-python",
   "name": "python",
   "nbconvert_exporter": "python",
   "pygments_lexer": "ipython3",
   "version": "3.12.3"
  }
 },
 "nbformat": 4,
 "nbformat_minor": 5
}
