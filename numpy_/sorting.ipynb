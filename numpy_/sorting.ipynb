{
 "cells": [
  {
   "cell_type": "code",
   "execution_count": null,
   "id": "ab665146-dadb-4786-a1da-8204fd331412",
   "metadata": {},
   "outputs": [],
   "source": []
  },
  {
   "cell_type": "code",
   "execution_count": 1,
   "id": "ecdaf1f0-adec-4c32-bd07-6797b643e66a",
   "metadata": {},
   "outputs": [],
   "source": [
    "import numpy as np"
   ]
  },
  {
   "cell_type": "code",
   "execution_count": 8,
   "id": "0083a8d7-1ec8-4950-9f6e-5482413ffbf8",
   "metadata": {},
   "outputs": [],
   "source": [
    "x = np.array([12, 21, 34, 32, 21, 22, 45, 42, 46, 30, 70, 40])"
   ]
  },
  {
   "cell_type": "code",
   "execution_count": 9,
   "id": "273a43f4-e8e1-4302-83e5-486d9dc4a10b",
   "metadata": {},
   "outputs": [
    {
     "data": {
      "text/plain": [
       "array([12, 21, 34, 32, 21, 22, 45, 42, 46, 30, 70, 40])"
      ]
     },
     "execution_count": 9,
     "metadata": {},
     "output_type": "execute_result"
    }
   ],
   "source": [
    "x"
   ]
  },
  {
   "cell_type": "code",
   "execution_count": 10,
   "id": "9276ee7d-30ec-4eaf-bc78-372be8d226d3",
   "metadata": {},
   "outputs": [],
   "source": [
    "# you can sort your original array\n",
    "\n",
    "# x.sort()"
   ]
  },
  {
   "cell_type": "code",
   "execution_count": 11,
   "id": "b246e6a8-f807-489b-acab-e9d6cd9983fb",
   "metadata": {},
   "outputs": [
    {
     "data": {
      "text/plain": [
       "array([12, 21, 34, 32, 21, 22, 45, 42, 46, 30, 70, 40])"
      ]
     },
     "execution_count": 11,
     "metadata": {},
     "output_type": "execute_result"
    }
   ],
   "source": [
    "x"
   ]
  },
  {
   "cell_type": "code",
   "execution_count": 12,
   "id": "b535e750-54e5-4ae2-9333-4b22954d36d8",
   "metadata": {},
   "outputs": [],
   "source": [
    "sorted_arr = np.sort(x)"
   ]
  },
  {
   "cell_type": "code",
   "execution_count": 13,
   "id": "85a7583c-e069-42a4-8fce-114b1a310097",
   "metadata": {},
   "outputs": [
    {
     "data": {
      "text/plain": [
       "array([12, 21, 21, 22, 30, 32, 34, 40, 42, 45, 46, 70])"
      ]
     },
     "execution_count": 13,
     "metadata": {},
     "output_type": "execute_result"
    }
   ],
   "source": [
    "sorted_arr"
   ]
  },
  {
   "cell_type": "code",
   "execution_count": 15,
   "id": "638824ba-7158-4448-b57f-a78e46a8e6aa",
   "metadata": {},
   "outputs": [
    {
     "data": {
      "text/plain": [
       "array([70, 46, 45, 42, 40, 34, 32, 30, 22, 21, 21, 12])"
      ]
     },
     "execution_count": 15,
     "metadata": {},
     "output_type": "execute_result"
    }
   ],
   "source": [
    "sorted_arr[::-1]"
   ]
  },
  {
   "cell_type": "code",
   "execution_count": 16,
   "id": "f1fe261a-9fa0-4acc-b9d5-2151c1b8d54b",
   "metadata": {},
   "outputs": [],
   "source": [
    "# argsort"
   ]
  },
  {
   "cell_type": "code",
   "execution_count": 17,
   "id": "4e15ad03-11dc-4ccb-a501-6e40c2055f54",
   "metadata": {},
   "outputs": [
    {
     "data": {
      "text/plain": [
       "array([ 0,  1,  4,  5,  9,  3,  2, 11,  7,  6,  8, 10])"
      ]
     },
     "execution_count": 17,
     "metadata": {},
     "output_type": "execute_result"
    }
   ],
   "source": [
    "# sorting values by indices\n",
    "np.argsort(x)"
   ]
  },
  {
   "cell_type": "code",
   "execution_count": 18,
   "id": "4033199c-c8e8-470c-8881-9067dc634eaa",
   "metadata": {},
   "outputs": [
    {
     "data": {
      "text/plain": [
       "array([12, 21, 34, 32, 21, 22, 45, 42, 46, 30, 70, 40])"
      ]
     },
     "execution_count": 18,
     "metadata": {},
     "output_type": "execute_result"
    }
   ],
   "source": [
    "x"
   ]
  },
  {
   "cell_type": "code",
   "execution_count": null,
   "id": "5d22d94e-2272-4956-8cb0-465e490c69b3",
   "metadata": {},
   "outputs": [],
   "source": [
    "12, 21, 21, 22, 30"
   ]
  }
 ],
 "metadata": {
  "kernelspec": {
   "display_name": "Python 3 (ipykernel)",
   "language": "python",
   "name": "python3"
  },
  "language_info": {
   "codemirror_mode": {
    "name": "ipython",
    "version": 3
   },
   "file_extension": ".py",
   "mimetype": "text/x-python",
   "name": "python",
   "nbconvert_exporter": "python",
   "pygments_lexer": "ipython3",
   "version": "3.12.3"
  }
 },
 "nbformat": 4,
 "nbformat_minor": 5
}
