{
 "cells": [
  {
   "cell_type": "code",
   "execution_count": 1,
   "id": "0bf1c2be-873c-483f-85ed-5480526c7e1e",
   "metadata": {},
   "outputs": [],
   "source": [
    "import numpy as np"
   ]
  },
  {
   "cell_type": "code",
   "execution_count": 2,
   "id": "7c12cf13-92ba-4fdc-ae83-43de3b7e4a37",
   "metadata": {},
   "outputs": [],
   "source": [
    "x = [1,2,3,4,5,6]\n",
    "y = [34, 43, 34, 24, 23, 10]"
   ]
  },
  {
   "cell_type": "code",
   "execution_count": 5,
   "id": "703234df-6cf9-440a-a0ad-fb19a43204aa",
   "metadata": {},
   "outputs": [],
   "source": [
    "x_arr = np.array(x)\n",
    "y_arr = np.array(y)"
   ]
  },
  {
   "cell_type": "code",
   "execution_count": 6,
   "id": "db28a086-9439-4e17-a06d-deaaad43c87a",
   "metadata": {},
   "outputs": [
    {
     "data": {
      "text/plain": [
       "array([1, 2, 3, 4, 5, 6])"
      ]
     },
     "execution_count": 6,
     "metadata": {},
     "output_type": "execute_result"
    }
   ],
   "source": [
    "x_arr"
   ]
  },
  {
   "cell_type": "code",
   "execution_count": 7,
   "id": "5a0dd9a8-0294-400c-8ce8-a094d99a4285",
   "metadata": {},
   "outputs": [
    {
     "data": {
      "text/plain": [
       "array([34, 43, 34, 24, 23, 10])"
      ]
     },
     "execution_count": 7,
     "metadata": {},
     "output_type": "execute_result"
    }
   ],
   "source": [
    "y_arr"
   ]
  },
  {
   "cell_type": "code",
   "execution_count": 8,
   "id": "b22fc1c5-6377-4658-88e9-07ce1d3f3f85",
   "metadata": {},
   "outputs": [
    {
     "data": {
      "text/plain": [
       "array([35, 45, 37, 28, 28, 16])"
      ]
     },
     "execution_count": 8,
     "metadata": {},
     "output_type": "execute_result"
    }
   ],
   "source": [
    "x_arr + y_arr"
   ]
  },
  {
   "cell_type": "code",
   "execution_count": 9,
   "id": "015dd98e-426f-407a-b094-eb00f033f3c7",
   "metadata": {},
   "outputs": [
    {
     "data": {
      "text/plain": [
       "array([-33, -41, -31, -20, -18,  -4])"
      ]
     },
     "execution_count": 9,
     "metadata": {},
     "output_type": "execute_result"
    }
   ],
   "source": [
    "x_arr - y_arr"
   ]
  },
  {
   "cell_type": "code",
   "execution_count": 11,
   "id": "7c8c5db6-7543-4b0b-a6c9-926b8c61f124",
   "metadata": {},
   "outputs": [
    {
     "data": {
      "text/plain": [
       "array([ 34,  86, 102,  96, 115,  60])"
      ]
     },
     "execution_count": 11,
     "metadata": {},
     "output_type": "execute_result"
    }
   ],
   "source": [
    "x_arr * y_arr"
   ]
  },
  {
   "cell_type": "code",
   "execution_count": 12,
   "id": "a2e71cd7-dc4f-4c6b-965d-adc51131732e",
   "metadata": {},
   "outputs": [
    {
     "data": {
      "text/plain": [
       "array([0.02941176, 0.04651163, 0.08823529, 0.16666667, 0.2173913 ,\n",
       "       0.6       ])"
      ]
     },
     "execution_count": 12,
     "metadata": {},
     "output_type": "execute_result"
    }
   ],
   "source": [
    "x_arr / y_arr"
   ]
  },
  {
   "cell_type": "code",
   "execution_count": 13,
   "id": "76a1c7a8-2540-46ed-918e-1508fa57bf1b",
   "metadata": {},
   "outputs": [
    {
     "data": {
      "text/plain": [
       "array([1, 2, 3, 4, 5, 6])"
      ]
     },
     "execution_count": 13,
     "metadata": {},
     "output_type": "execute_result"
    }
   ],
   "source": [
    "x_arr"
   ]
  },
  {
   "cell_type": "code",
   "execution_count": 14,
   "id": "6d0fec25-bbdb-4ca4-907c-a3357a05b2c6",
   "metadata": {},
   "outputs": [
    {
     "data": {
      "text/plain": [
       "array([10, 20, 30, 40, 50, 60])"
      ]
     },
     "execution_count": 14,
     "metadata": {},
     "output_type": "execute_result"
    }
   ],
   "source": [
    "x_arr * 10"
   ]
  },
  {
   "cell_type": "code",
   "execution_count": 15,
   "id": "4421a138-cb7e-4ec0-baea-3294a0e8bf7c",
   "metadata": {},
   "outputs": [
    {
     "data": {
      "text/plain": [
       "array([0.1, 0.2, 0.3, 0.4, 0.5, 0.6])"
      ]
     },
     "execution_count": 15,
     "metadata": {},
     "output_type": "execute_result"
    }
   ],
   "source": [
    "x_arr / 10"
   ]
  },
  {
   "cell_type": "code",
   "execution_count": null,
   "id": "ee96577c-8954-4e23-85ec-7b8fcbe9919c",
   "metadata": {},
   "outputs": [],
   "source": []
  },
  {
   "cell_type": "code",
   "execution_count": 16,
   "id": "5bfafd10-b0d3-492e-b2b3-ca3833206559",
   "metadata": {},
   "outputs": [],
   "source": [
    "# statistical operations : mean, sum, cumsum"
   ]
  },
  {
   "cell_type": "code",
   "execution_count": 17,
   "id": "c5001191-da78-4ff1-a1d9-8311994ec45d",
   "metadata": {},
   "outputs": [
    {
     "data": {
      "text/plain": [
       "array([1, 2, 3, 4, 5, 6])"
      ]
     },
     "execution_count": 17,
     "metadata": {},
     "output_type": "execute_result"
    }
   ],
   "source": [
    "x_arr"
   ]
  },
  {
   "cell_type": "code",
   "execution_count": 18,
   "id": "a7bd5545-49ce-4df4-ba92-dde25894d132",
   "metadata": {},
   "outputs": [
    {
     "data": {
      "text/plain": [
       "np.float64(3.5)"
      ]
     },
     "execution_count": 18,
     "metadata": {},
     "output_type": "execute_result"
    }
   ],
   "source": [
    "np.mean(x_arr)"
   ]
  },
  {
   "cell_type": "code",
   "execution_count": 20,
   "id": "b5718755-2cc7-447c-8e93-d6b97a63297e",
   "metadata": {},
   "outputs": [
    {
     "data": {
      "text/plain": [
       "np.float64(3.5)"
      ]
     },
     "execution_count": 20,
     "metadata": {},
     "output_type": "execute_result"
    }
   ],
   "source": [
    "np.average(x_arr)"
   ]
  },
  {
   "cell_type": "code",
   "execution_count": 21,
   "id": "44eae833-b2c1-4e19-9530-c2872a086aec",
   "metadata": {},
   "outputs": [
    {
     "data": {
      "text/plain": [
       "np.int64(21)"
      ]
     },
     "execution_count": 21,
     "metadata": {},
     "output_type": "execute_result"
    }
   ],
   "source": [
    "np.sum(x_arr)"
   ]
  },
  {
   "cell_type": "code",
   "execution_count": 22,
   "id": "0a29f7b2-b846-42c5-a88a-959ae9888f05",
   "metadata": {},
   "outputs": [
    {
     "data": {
      "text/plain": [
       "array([ 1,  3,  6, 10, 15, 21])"
      ]
     },
     "execution_count": 22,
     "metadata": {},
     "output_type": "execute_result"
    }
   ],
   "source": [
    "# cumalative sum : \n",
    "np.cumsum(x_arr)"
   ]
  },
  {
   "cell_type": "code",
   "execution_count": 23,
   "id": "cfcbe1ad-5554-4024-bac2-516451852a20",
   "metadata": {},
   "outputs": [],
   "source": [
    "# 50 cr: 10 "
   ]
  },
  {
   "cell_type": "code",
   "execution_count": null,
   "id": "7d6183d3-9237-4f81-9e9d-949d410a4491",
   "metadata": {},
   "outputs": [],
   "source": []
  },
  {
   "cell_type": "code",
   "execution_count": null,
   "id": "7043b5f6-0d2e-4e61-bdd8-20ecc59af6b3",
   "metadata": {},
   "outputs": [],
   "source": []
  }
 ],
 "metadata": {
  "kernelspec": {
   "display_name": "Python 3 (ipykernel)",
   "language": "python",
   "name": "python3"
  },
  "language_info": {
   "codemirror_mode": {
    "name": "ipython",
    "version": 3
   },
   "file_extension": ".py",
   "mimetype": "text/x-python",
   "name": "python",
   "nbconvert_exporter": "python",
   "pygments_lexer": "ipython3",
   "version": "3.12.3"
  }
 },
 "nbformat": 4,
 "nbformat_minor": 5
}
