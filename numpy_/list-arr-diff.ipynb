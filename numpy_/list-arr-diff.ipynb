{
 "cells": [
  {
   "cell_type": "code",
   "execution_count": 1,
   "id": "89661ca3-9992-475e-a82c-298599c03325",
   "metadata": {},
   "outputs": [],
   "source": [
    "import numpy as np"
   ]
  },
  {
   "cell_type": "code",
   "execution_count": 2,
   "id": "e294c1d6-7a68-438e-ad72-c3319f328d87",
   "metadata": {},
   "outputs": [],
   "source": [
    "x = [10, 20, 30, 40, 50]"
   ]
  },
  {
   "cell_type": "code",
   "execution_count": 3,
   "id": "3b8308ef-b210-49f3-8717-9f33205a391e",
   "metadata": {},
   "outputs": [
    {
     "data": {
      "text/plain": [
       "[10, 20, 30, 40, 50]"
      ]
     },
     "execution_count": 3,
     "metadata": {},
     "output_type": "execute_result"
    }
   ],
   "source": [
    "x"
   ]
  },
  {
   "cell_type": "code",
   "execution_count": 4,
   "id": "8ef4caae-a08c-4b32-b529-f8e5f176e985",
   "metadata": {},
   "outputs": [],
   "source": [
    "arr = np.array([10, 20, 30, 40, 50, 60])"
   ]
  },
  {
   "cell_type": "code",
   "execution_count": 5,
   "id": "da9ff1fb-da63-4f79-b343-4caf14456466",
   "metadata": {},
   "outputs": [
    {
     "data": {
      "text/plain": [
       "array([10, 20, 30, 40, 50, 60])"
      ]
     },
     "execution_count": 5,
     "metadata": {},
     "output_type": "execute_result"
    }
   ],
   "source": [
    "arr"
   ]
  },
  {
   "cell_type": "code",
   "execution_count": 6,
   "id": "847c362b-69fb-4122-b094-d276d61fc2a8",
   "metadata": {},
   "outputs": [
    {
     "name": "stdout",
     "output_type": "stream",
     "text": [
      "[10 20 30 40 50 60]\n"
     ]
    }
   ],
   "source": [
    "print(arr)"
   ]
  },
  {
   "cell_type": "code",
   "execution_count": 7,
   "id": "4ce9ec51-99e2-4d2e-aaea-072bf7b69af6",
   "metadata": {},
   "outputs": [
    {
     "data": {
      "text/plain": [
       "array([10, 20, 30, 40, 50, 60])"
      ]
     },
     "execution_count": 7,
     "metadata": {},
     "output_type": "execute_result"
    }
   ],
   "source": [
    "arr"
   ]
  },
  {
   "cell_type": "markdown",
   "id": "5568476c-1c33-4f66-8d46-f14aedeab692",
   "metadata": {},
   "source": [
    "#### The difference between list and array\n",
    "\n",
    "##### 1) Numpy arrays are faster than list\n",
    "##### 2) lists are good with small amount of data"
   ]
  },
  {
   "cell_type": "code",
   "execution_count": null,
   "id": "8ef9c918-745f-4ea4-8cda-67aa090d4e07",
   "metadata": {},
   "outputs": [],
   "source": []
  },
  {
   "cell_type": "code",
   "execution_count": 11,
   "id": "926a1ad5-4a2b-45eb-865b-c35c0d9738df",
   "metadata": {},
   "outputs": [],
   "source": [
    "import time"
   ]
  },
  {
   "cell_type": "code",
   "execution_count": 14,
   "id": "26a02930-e8c2-44fc-b508-da08cc82f668",
   "metadata": {},
   "outputs": [
    {
     "name": "stdout",
     "output_type": "stream",
     "text": [
      "The time taken by list is:  0.1679697036743164\n"
     ]
    }
   ],
   "source": [
    "\n",
    "start = time.time()\n",
    "lst = [i for i in range(1, 1000001)]\n",
    "end = time.time()\n",
    "\n",
    "print(\"The time taken by list is: \", end-start)"
   ]
  },
  {
   "cell_type": "code",
   "execution_count": 15,
   "id": "f8965f3b-6581-40f2-aaeb-2e80fb52d7a9",
   "metadata": {},
   "outputs": [
    {
     "name": "stdout",
     "output_type": "stream",
     "text": [
      "The time taken by array is:  0.008753061294555664\n"
     ]
    }
   ],
   "source": [
    "start = time.time()\n",
    "arr = np.arange(1, 1000001)\n",
    "end = time.time()\n",
    "\n",
    "print(\"The time taken by array is: \", end-start)"
   ]
  },
  {
   "cell_type": "code",
   "execution_count": null,
   "id": "71e0a558-0d1c-4cbb-9f07-56b4995489b8",
   "metadata": {},
   "outputs": [],
   "source": []
  },
  {
   "cell_type": "code",
   "execution_count": 16,
   "id": "8473d030-1a5c-41ac-a555-a88e73ceafa0",
   "metadata": {},
   "outputs": [
    {
     "data": {
      "text/plain": [
       "[1, 2, 3, 4, 5, 10, 20, 30, 40, 50]"
      ]
     },
     "execution_count": 16,
     "metadata": {},
     "output_type": "execute_result"
    }
   ],
   "source": [
    "x = [1,2,3,4,5]\n",
    "y = [10, 20, 30, 40, 50]\n",
    "\n",
    "x + y"
   ]
  },
  {
   "cell_type": "code",
   "execution_count": 19,
   "id": "76e031d7-44d9-48b4-88b9-14b9e75cb65e",
   "metadata": {},
   "outputs": [],
   "source": [
    "x_arr = np.array(x)\n",
    "y_arr = np.array(y)"
   ]
  },
  {
   "cell_type": "code",
   "execution_count": 20,
   "id": "972f330f-09b8-4877-8bb9-eeca547f3563",
   "metadata": {},
   "outputs": [
    {
     "data": {
      "text/plain": [
       "array([1, 2, 3, 4, 5])"
      ]
     },
     "execution_count": 20,
     "metadata": {},
     "output_type": "execute_result"
    }
   ],
   "source": [
    "x_arr"
   ]
  },
  {
   "cell_type": "code",
   "execution_count": 21,
   "id": "0205e6e0-f993-415a-9501-128918d22dc1",
   "metadata": {},
   "outputs": [
    {
     "data": {
      "text/plain": [
       "array([10, 20, 30, 40, 50])"
      ]
     },
     "execution_count": 21,
     "metadata": {},
     "output_type": "execute_result"
    }
   ],
   "source": [
    "y_arr"
   ]
  },
  {
   "cell_type": "code",
   "execution_count": 22,
   "id": "5ad85702-329c-4255-8583-242a6ff865f5",
   "metadata": {},
   "outputs": [
    {
     "data": {
      "text/plain": [
       "array([11, 22, 33, 44, 55])"
      ]
     },
     "execution_count": 22,
     "metadata": {},
     "output_type": "execute_result"
    }
   ],
   "source": [
    "x_arr + y_arr"
   ]
  },
  {
   "cell_type": "code",
   "execution_count": null,
   "id": "e005cc68-aa93-43e2-8347-54f08482a6a6",
   "metadata": {},
   "outputs": [],
   "source": []
  }
 ],
 "metadata": {
  "kernelspec": {
   "display_name": "Python 3 (ipykernel)",
   "language": "python",
   "name": "python3"
  },
  "language_info": {
   "codemirror_mode": {
    "name": "ipython",
    "version": 3
   },
   "file_extension": ".py",
   "mimetype": "text/x-python",
   "name": "python",
   "nbconvert_exporter": "python",
   "pygments_lexer": "ipython3",
   "version": "3.12.3"
  }
 },
 "nbformat": 4,
 "nbformat_minor": 5
}
