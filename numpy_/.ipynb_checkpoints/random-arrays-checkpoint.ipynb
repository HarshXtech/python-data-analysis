{
 "cells": [
  {
   "cell_type": "code",
   "execution_count": 1,
   "id": "2ec3024e-0056-4038-aaf5-cd2bcec2307e",
   "metadata": {},
   "outputs": [],
   "source": [
    "import numpy as np"
   ]
  },
  {
   "cell_type": "code",
   "execution_count": 4,
   "id": "ca39b7be-75e3-4efa-ba7c-9341e8aff50f",
   "metadata": {},
   "outputs": [],
   "source": [
    "# Random number : \n",
    "\n",
    "# 1) lagacy methods : traditional methods\n",
    "# 2) new generator interface : 1.17+"
   ]
  },
  {
   "cell_type": "code",
   "execution_count": null,
   "id": "7ce7e05b-ce63-4675-ae96-4daacbe27452",
   "metadata": {},
   "outputs": [],
   "source": []
  },
  {
   "cell_type": "markdown",
   "id": "e8087257-10aa-4bc8-9373-2f122833969e",
   "metadata": {},
   "source": [
    "### rand: it generates the values between 0 and 1 with given shape"
   ]
  },
  {
   "cell_type": "code",
   "execution_count": 16,
   "id": "092df26f-f2c8-4f93-8ff0-172c006ba232",
   "metadata": {},
   "outputs": [],
   "source": [
    "arr = np.random.rand(3, 2)"
   ]
  },
  {
   "cell_type": "code",
   "execution_count": 17,
   "id": "08b32aed-4fc6-4229-ba4c-51aa16d7bc07",
   "metadata": {},
   "outputs": [
    {
     "data": {
      "text/plain": [
       "array([[0.26870403, 0.67450198],\n",
       "       [0.17115361, 0.33558907],\n",
       "       [0.3691831 , 0.43999008]])"
      ]
     },
     "execution_count": 17,
     "metadata": {},
     "output_type": "execute_result"
    }
   ],
   "source": [
    "arr"
   ]
  },
  {
   "cell_type": "markdown",
   "id": "4c1f157a-2501-413a-b659-28f7cb5f5049",
   "metadata": {},
   "source": [
    "### randn : it generates random values in standard normal distribution"
   ]
  },
  {
   "cell_type": "code",
   "execution_count": 7,
   "id": "5de723d2-7996-4352-92c5-67380824533c",
   "metadata": {},
   "outputs": [],
   "source": [
    "arr_2 = np.random.randn(3,2) "
   ]
  },
  {
   "cell_type": "code",
   "execution_count": 8,
   "id": "e66a1c25-99ce-4ef7-b72b-bbb1dc2d61c5",
   "metadata": {},
   "outputs": [
    {
     "data": {
      "text/plain": [
       "array([[-0.40353357, -1.13525898],\n",
       "       [ 0.04269431, -1.07067796],\n",
       "       [ 0.99327508, -0.20906717]])"
      ]
     },
     "execution_count": 8,
     "metadata": {},
     "output_type": "execute_result"
    }
   ],
   "source": [
    "arr_2"
   ]
  },
  {
   "cell_type": "markdown",
   "id": "4ab0fdc9-76b6-46d4-bc60-14c27a2b88b9",
   "metadata": {},
   "source": [
    "### randint : it generates random values between given range, and with given shape"
   ]
  },
  {
   "cell_type": "code",
   "execution_count": 14,
   "id": "ee3d55ad-3ade-4895-8aac-3961fcaa5876",
   "metadata": {},
   "outputs": [],
   "source": [
    "arr_3 = np.random.randint(10, 20, (3, 5))"
   ]
  },
  {
   "cell_type": "code",
   "execution_count": 15,
   "id": "1f088b2b-cc25-4df5-ae5d-1afdcd01643d",
   "metadata": {},
   "outputs": [
    {
     "data": {
      "text/plain": [
       "array([[16, 17, 18, 13, 12],\n",
       "       [17, 10, 15, 14, 16],\n",
       "       [13, 13, 18, 12, 18]], dtype=int32)"
      ]
     },
     "execution_count": 15,
     "metadata": {},
     "output_type": "execute_result"
    }
   ],
   "source": [
    "arr_3"
   ]
  },
  {
   "cell_type": "code",
   "execution_count": null,
   "id": "e59a021f-4173-4640-ba59-9304363be99f",
   "metadata": {},
   "outputs": [],
   "source": []
  },
  {
   "cell_type": "markdown",
   "id": "fd59056d-8abf-4dbc-9a76-5725f6482901",
   "metadata": {},
   "source": [
    "### new generator interface"
   ]
  },
  {
   "cell_type": "code",
   "execution_count": 18,
   "id": "0ac5d516-9321-4503-8c3c-d9eedf6d9e4d",
   "metadata": {},
   "outputs": [],
   "source": [
    "rng = np.random.default_rng()"
   ]
  },
  {
   "cell_type": "code",
   "execution_count": 20,
   "id": "b9e6555c-30e5-420e-ac6b-2cbcf51f5b48",
   "metadata": {},
   "outputs": [
    {
     "data": {
      "text/plain": [
       "array([[0.84434096, 0.38592876, 0.6596844 , 0.20063885],\n",
       "       [0.54808727, 0.30890843, 0.50069453, 0.92813299],\n",
       "       [0.48217765, 0.44123167, 0.04863299, 0.91721499]])"
      ]
     },
     "execution_count": 20,
     "metadata": {},
     "output_type": "execute_result"
    }
   ],
   "source": [
    "rng.random((3,4))"
   ]
  },
  {
   "cell_type": "code",
   "execution_count": null,
   "id": "d203bf29-888a-48e4-b8d2-4604636af0eb",
   "metadata": {},
   "outputs": [],
   "source": []
  },
  {
   "cell_type": "code",
   "execution_count": 44,
   "id": "62e97604-efdd-4c87-ad4e-fb689081e6f5",
   "metadata": {},
   "outputs": [
    {
     "data": {
      "text/plain": [
       "array([[120, 167, 186, 173, 154],\n",
       "       [160, 140, 136, 159, 101],\n",
       "       [189, 171, 106, 146, 121]])"
      ]
     },
     "execution_count": 44,
     "metadata": {},
     "output_type": "execute_result"
    }
   ],
   "source": [
    "rng.integers(low=100, high=200, size=(3, 5))"
   ]
  },
  {
   "cell_type": "code",
   "execution_count": 56,
   "id": "cffd7f8d-878f-47df-9914-44442fa71b19",
   "metadata": {},
   "outputs": [
    {
     "data": {
      "text/plain": [
       "array([[40, 10],\n",
       "       [50, 30]])"
      ]
     },
     "execution_count": 56,
     "metadata": {},
     "output_type": "execute_result"
    }
   ],
   "source": [
    "rng.choice([10, 20, 30, 40, 50], size=(2,2))"
   ]
  },
  {
   "cell_type": "code",
   "execution_count": null,
   "id": "085bb532-cd36-4b86-a4b1-282fcdb1af8c",
   "metadata": {},
   "outputs": [],
   "source": []
  }
 ],
 "metadata": {
  "kernelspec": {
   "display_name": "Python 3 (ipykernel)",
   "language": "python",
   "name": "python3"
  },
  "language_info": {
   "codemirror_mode": {
    "name": "ipython",
    "version": 3
   },
   "file_extension": ".py",
   "mimetype": "text/x-python",
   "name": "python",
   "nbconvert_exporter": "python",
   "pygments_lexer": "ipython3",
   "version": "3.12.3"
  }
 },
 "nbformat": 4,
 "nbformat_minor": 5
}
