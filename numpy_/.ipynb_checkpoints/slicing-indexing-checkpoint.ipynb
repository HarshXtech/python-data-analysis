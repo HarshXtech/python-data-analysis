{
 "cells": [
  {
   "cell_type": "code",
   "execution_count": 1,
   "id": "1ca8fde4-4fcc-4cf3-a06f-ad2e88b0547f",
   "metadata": {},
   "outputs": [],
   "source": [
    "import numpy as np"
   ]
  },
  {
   "cell_type": "code",
   "execution_count": 2,
   "id": "a2f9d9ed-1404-4423-af37-3aac5a015dfd",
   "metadata": {},
   "outputs": [],
   "source": [
    "x = np.array([34, 32, 2, 12, 56, 23])"
   ]
  },
  {
   "cell_type": "code",
   "execution_count": 3,
   "id": "530a9a81-911b-4d05-b25c-f85ccfc2ec8f",
   "metadata": {},
   "outputs": [
    {
     "data": {
      "text/plain": [
       "array([34, 32,  2, 12, 56, 23])"
      ]
     },
     "execution_count": 3,
     "metadata": {},
     "output_type": "execute_result"
    }
   ],
   "source": [
    "x"
   ]
  },
  {
   "cell_type": "code",
   "execution_count": 4,
   "id": "53eb300a-2d9f-4f71-a5c5-95987ffa474a",
   "metadata": {},
   "outputs": [],
   "source": [
    "# indexing"
   ]
  },
  {
   "cell_type": "code",
   "execution_count": 5,
   "id": "3aed81c8-470d-4aaf-8fcb-c07cbdd5be44",
   "metadata": {},
   "outputs": [
    {
     "data": {
      "text/plain": [
       "np.int64(34)"
      ]
     },
     "execution_count": 5,
     "metadata": {},
     "output_type": "execute_result"
    }
   ],
   "source": [
    "x[0]"
   ]
  },
  {
   "cell_type": "code",
   "execution_count": 7,
   "id": "1d2660d1-9f42-40d8-bbf2-ed10641fb446",
   "metadata": {},
   "outputs": [
    {
     "name": "stdout",
     "output_type": "stream",
     "text": [
      "32\n"
     ]
    }
   ],
   "source": [
    "print(x[1])"
   ]
  },
  {
   "cell_type": "code",
   "execution_count": 10,
   "id": "449bcdde-5d27-4fae-b0b5-0cfeb66507cb",
   "metadata": {},
   "outputs": [
    {
     "data": {
      "text/plain": [
       "np.int64(2)"
      ]
     },
     "execution_count": 10,
     "metadata": {},
     "output_type": "execute_result"
    }
   ],
   "source": [
    "x[-4] # negative indexing"
   ]
  },
  {
   "cell_type": "code",
   "execution_count": 12,
   "id": "63a13ae6-4df3-499e-b25b-2b6ca5910227",
   "metadata": {},
   "outputs": [],
   "source": [
    "arr_2d = np.array([[23, 32, 12, 21, 34], [56, 65, 45, 43, 34]])"
   ]
  },
  {
   "cell_type": "code",
   "execution_count": 13,
   "id": "ea0564ac-d352-4a1d-8558-e79f9b702af4",
   "metadata": {},
   "outputs": [
    {
     "data": {
      "text/plain": [
       "array([[23, 32, 12, 21, 34],\n",
       "       [56, 65, 45, 43, 34]])"
      ]
     },
     "execution_count": 13,
     "metadata": {},
     "output_type": "execute_result"
    }
   ],
   "source": [
    "arr_2d"
   ]
  },
  {
   "cell_type": "code",
   "execution_count": 17,
   "id": "abc15aea-88c6-4ba9-bb86-65020d8f926d",
   "metadata": {},
   "outputs": [
    {
     "data": {
      "text/plain": [
       "np.int64(45)"
      ]
     },
     "execution_count": 17,
     "metadata": {},
     "output_type": "execute_result"
    }
   ],
   "source": [
    "arr_2d[1][2]"
   ]
  },
  {
   "cell_type": "markdown",
   "id": "451504a3-ddbb-465b-a494-eb8a5d50ddf8",
   "metadata": {},
   "source": [
    "#### Slicing"
   ]
  },
  {
   "cell_type": "code",
   "execution_count": null,
   "id": "e2027d61-fd04-4ebc-adf6-34b605502988",
   "metadata": {},
   "outputs": [],
   "source": []
  },
  {
   "cell_type": "code",
   "execution_count": 18,
   "id": "0a4ea11b-6ce1-4a41-8208-0bc8d4a0ce64",
   "metadata": {},
   "outputs": [
    {
     "data": {
      "text/plain": [
       "array([[23, 32, 12, 21, 34],\n",
       "       [56, 65, 45, 43, 34]])"
      ]
     },
     "execution_count": 18,
     "metadata": {},
     "output_type": "execute_result"
    }
   ],
   "source": [
    "arr_2d"
   ]
  },
  {
   "cell_type": "code",
   "execution_count": 20,
   "id": "d87abe07-164b-4114-a54c-e610bfcea93e",
   "metadata": {},
   "outputs": [
    {
     "data": {
      "text/plain": [
       "array([[23, 32, 12, 21, 34],\n",
       "       [56, 65, 45, 43, 34]])"
      ]
     },
     "execution_count": 20,
     "metadata": {},
     "output_type": "execute_result"
    }
   ],
   "source": [
    "arr_2d[:, :]  # first colon : all rows, second colon : columns"
   ]
  },
  {
   "cell_type": "code",
   "execution_count": 21,
   "id": "d808f94c-4c45-4fd9-91f9-20e97050eb38",
   "metadata": {},
   "outputs": [
    {
     "data": {
      "text/plain": [
       "array([[23, 32],\n",
       "       [56, 65]])"
      ]
     },
     "execution_count": 21,
     "metadata": {},
     "output_type": "execute_result"
    }
   ],
   "source": [
    "arr_2d[: , :2]   # colon, column"
   ]
  },
  {
   "cell_type": "code",
   "execution_count": 22,
   "id": "a64c7692-de91-486b-9bf2-c744793239cc",
   "metadata": {},
   "outputs": [
    {
     "data": {
      "text/plain": [
       "array([[23]])"
      ]
     },
     "execution_count": 22,
     "metadata": {},
     "output_type": "execute_result"
    }
   ],
   "source": [
    "# 1st param : give me all rows till 1st index : 0\n",
    "# 2nd param : give me all columns till 1st index : 0\n",
    "arr_2d[:1, :1] "
   ]
  },
  {
   "cell_type": "code",
   "execution_count": 23,
   "id": "8e0ea433-2a2b-4851-86e8-855f0116284a",
   "metadata": {},
   "outputs": [],
   "source": [
    "second_arr = np.array([[34,23,21,34,45], [45, 43, 67, 76, 78], [10, 20, 30, 40, 50]])"
   ]
  },
  {
   "cell_type": "code",
   "execution_count": 24,
   "id": "d85821cd-471b-49fa-8155-3e8771c1187d",
   "metadata": {},
   "outputs": [
    {
     "data": {
      "text/plain": [
       "array([[34, 23, 21, 34, 45],\n",
       "       [45, 43, 67, 76, 78],\n",
       "       [10, 20, 30, 40, 50]])"
      ]
     },
     "execution_count": 24,
     "metadata": {},
     "output_type": "execute_result"
    }
   ],
   "source": [
    "second_arr"
   ]
  },
  {
   "cell_type": "code",
   "execution_count": null,
   "id": "2826a9ef-e3e6-45ba-8a70-fcc1e37ec802",
   "metadata": {},
   "outputs": [],
   "source": [
    "[34, 23, 21]\n",
    "[45, 43, 67]"
   ]
  },
  {
   "cell_type": "code",
   "execution_count": 25,
   "id": "49e404c4-fed5-419c-aab8-d49467177429",
   "metadata": {},
   "outputs": [
    {
     "data": {
      "text/plain": [
       "array([[34, 23, 21],\n",
       "       [45, 43, 67]])"
      ]
     },
     "execution_count": 25,
     "metadata": {},
     "output_type": "execute_result"
    }
   ],
   "source": [
    "second_arr[:2, :3]"
   ]
  },
  {
   "cell_type": "code",
   "execution_count": 26,
   "id": "bb7c17af-d41c-4edf-ac7f-f6fc452fa47f",
   "metadata": {},
   "outputs": [
    {
     "data": {
      "text/plain": [
       "(20, 30, 40)"
      ]
     },
     "execution_count": 26,
     "metadata": {},
     "output_type": "execute_result"
    }
   ],
   "source": [
    "20, 30, 40"
   ]
  },
  {
   "cell_type": "code",
   "execution_count": 27,
   "id": "2a80f524-9b52-436a-9fa3-2a685074f107",
   "metadata": {},
   "outputs": [
    {
     "data": {
      "text/plain": [
       "array([20, 30, 40])"
      ]
     },
     "execution_count": 27,
     "metadata": {},
     "output_type": "execute_result"
    }
   ],
   "source": [
    "second_arr[2, 1:4]"
   ]
  },
  {
   "cell_type": "code",
   "execution_count": null,
   "id": "f5e8950f-4c42-4c92-b4a7-f6cec3b3881d",
   "metadata": {},
   "outputs": [],
   "source": []
  }
 ],
 "metadata": {
  "kernelspec": {
   "display_name": "Python 3 (ipykernel)",
   "language": "python",
   "name": "python3"
  },
  "language_info": {
   "codemirror_mode": {
    "name": "ipython",
    "version": 3
   },
   "file_extension": ".py",
   "mimetype": "text/x-python",
   "name": "python",
   "nbconvert_exporter": "python",
   "pygments_lexer": "ipython3",
   "version": "3.12.3"
  }
 },
 "nbformat": 4,
 "nbformat_minor": 5
}
