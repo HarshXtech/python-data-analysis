{
 "cells": [
  {
   "cell_type": "code",
   "execution_count": 1,
   "id": "9e6e354c-65ad-44e5-aecf-d1bc610498e3",
   "metadata": {},
   "outputs": [],
   "source": [
    "import numpy as np"
   ]
  },
  {
   "cell_type": "markdown",
   "id": "a58e6dcd-eeac-4599-bc9f-d8e8bb455e33",
   "metadata": {},
   "source": [
    "### parameters in arange method\n",
    "\n",
    "##### 1) start (optional) : we define from where the range will start\n",
    "##### 2) end (required) : we define our limit\n",
    "##### 3) step (optional) : default step is 1, but can be changed"
   ]
  },
  {
   "cell_type": "code",
   "execution_count": null,
   "id": "2c8b539c-7de5-4adb-bd6e-dc0f947e56c9",
   "metadata": {},
   "outputs": [],
   "source": [
    "\n"
   ]
  },
  {
   "cell_type": "code",
   "execution_count": 2,
   "id": "ee93322c-2151-4445-b45b-c12ade75b77b",
   "metadata": {},
   "outputs": [
    {
     "data": {
      "text/plain": [
       "array([ 0,  1,  2,  3,  4,  5,  6,  7,  8,  9, 10, 11, 12, 13, 14, 15, 16,\n",
       "       17, 18, 19, 20, 21, 22, 23, 24, 25, 26, 27, 28, 29, 30, 31, 32, 33,\n",
       "       34, 35, 36, 37, 38, 39, 40, 41, 42, 43, 44, 45, 46, 47, 48, 49])"
      ]
     },
     "execution_count": 2,
     "metadata": {},
     "output_type": "execute_result"
    }
   ],
   "source": [
    "# non-inclusive outer boundry\n",
    "my_range = np.arange(50)\n",
    "my_range"
   ]
  },
  {
   "cell_type": "code",
   "execution_count": 3,
   "id": "74ae67a2-daed-4eca-a70d-fdcff5bdf45a",
   "metadata": {},
   "outputs": [],
   "source": [
    "my_sec_rang = np.arange(100, 150)"
   ]
  },
  {
   "cell_type": "code",
   "execution_count": 4,
   "id": "ee93191e-b336-4390-b3fa-8f04c00f027a",
   "metadata": {},
   "outputs": [
    {
     "data": {
      "text/plain": [
       "array([100, 101, 102, 103, 104, 105, 106, 107, 108, 109, 110, 111, 112,\n",
       "       113, 114, 115, 116, 117, 118, 119, 120, 121, 122, 123, 124, 125,\n",
       "       126, 127, 128, 129, 130, 131, 132, 133, 134, 135, 136, 137, 138,\n",
       "       139, 140, 141, 142, 143, 144, 145, 146, 147, 148, 149])"
      ]
     },
     "execution_count": 4,
     "metadata": {},
     "output_type": "execute_result"
    }
   ],
   "source": [
    "my_sec_rang"
   ]
  },
  {
   "cell_type": "code",
   "execution_count": 5,
   "id": "76e2f021-783d-4869-aeb9-f3602e86ce32",
   "metadata": {},
   "outputs": [
    {
     "data": {
      "text/plain": [
       "array([1000, 1100, 1200, 1300, 1400, 1500, 1600, 1700, 1800, 1900])"
      ]
     },
     "execution_count": 5,
     "metadata": {},
     "output_type": "execute_result"
    }
   ],
   "source": [
    "my_third_range = np.arange(1000, 2000, 100)\n",
    "my_third_range"
   ]
  },
  {
   "cell_type": "code",
   "execution_count": null,
   "id": "b8dccefd-0e11-4ac9-b829-a7cd72ca0b79",
   "metadata": {},
   "outputs": [],
   "source": []
  }
 ],
 "metadata": {
  "kernelspec": {
   "display_name": "Python 3 (ipykernel)",
   "language": "python",
   "name": "python3"
  },
  "language_info": {
   "codemirror_mode": {
    "name": "ipython",
    "version": 3
   },
   "file_extension": ".py",
   "mimetype": "text/x-python",
   "name": "python",
   "nbconvert_exporter": "python",
   "pygments_lexer": "ipython3",
   "version": "3.12.3"
  }
 },
 "nbformat": 4,
 "nbformat_minor": 5
}
