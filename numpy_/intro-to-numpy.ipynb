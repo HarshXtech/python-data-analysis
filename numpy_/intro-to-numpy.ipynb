{
 "cells": [
  {
   "cell_type": "markdown",
   "id": "37169f08-c783-4e59-86d0-ed96797c9e06",
   "metadata": {},
   "source": [
    "### Introduction to numpy"
   ]
  },
  {
   "cell_type": "markdown",
   "id": "09fab1c2-f21d-47d0-8cf9-d6d53060dceb",
   "metadata": {},
   "source": [
    "### What is numpy?\n",
    "\n",
    "##### Numpy is a python library which stands for numerical python.\n",
    "##### it is usefull when working with large amount data.\n",
    "##### numpy is built on c and c++\n",
    "##### we work with arrays in numpy\n",
    "##### numpy provides statistical analysis functions, and methods like mean, median, std!"
   ]
  },
  {
   "cell_type": "markdown",
   "id": "23f1f65e-a149-4cf2-923c-877698b57cfe",
   "metadata": {},
   "source": [
    "### What are arrays?"
   ]
  },
  {
   "cell_type": "markdown",
   "id": "df7013f5-d8c8-4ecf-91ca-66e8a773d3cd",
   "metadata": {},
   "source": [
    "##### Array is a data structure of numpy library\n",
    "##### Arrays are collection of numerical values which can have multiple dimensions\n",
    "##### Arrays can have n dimensions\n",
    "##### Arrays are faster than python lists."
   ]
  },
  {
   "cell_type": "code",
   "execution_count": null,
   "id": "e482e636-6a57-4f78-b64e-94f915c16c95",
   "metadata": {},
   "outputs": [],
   "source": []
  },
  {
   "cell_type": "code",
   "execution_count": 3,
   "id": "ed3354ec-d003-4aa9-b883-c2718f487f16",
   "metadata": {},
   "outputs": [],
   "source": [
    "import numpy as np"
   ]
  },
  {
   "cell_type": "code",
   "execution_count": 4,
   "id": "645dad74-2c2a-45c0-86c5-3bc827f1d817",
   "metadata": {},
   "outputs": [],
   "source": [
    "arr = np.array([1,2,3,4,5,6,7])"
   ]
  },
  {
   "cell_type": "code",
   "execution_count": 6,
   "id": "f7ce60b1-a8f1-40a9-8677-99be4d63b99f",
   "metadata": {},
   "outputs": [
    {
     "data": {
      "text/plain": [
       "numpy.ndarray"
      ]
     },
     "execution_count": 6,
     "metadata": {},
     "output_type": "execute_result"
    }
   ],
   "source": [
    "type(arr)"
   ]
  },
  {
   "cell_type": "code",
   "execution_count": null,
   "id": "175da011-c460-4690-8d51-9efef32e3ac6",
   "metadata": {},
   "outputs": [],
   "source": []
  },
  {
   "cell_type": "code",
   "execution_count": null,
   "id": "4d412e3d-3917-4174-b430-881874b8f0c7",
   "metadata": {},
   "outputs": [],
   "source": []
  },
  {
   "cell_type": "code",
   "execution_count": null,
   "id": "c5ff4e92-98c3-48dd-8b1f-bac2e9ccfc64",
   "metadata": {},
   "outputs": [],
   "source": []
  },
  {
   "cell_type": "code",
   "execution_count": null,
   "id": "f85d9ea6-8d10-4c45-acfc-6eccc3c1cc14",
   "metadata": {},
   "outputs": [],
   "source": []
  },
  {
   "cell_type": "code",
   "execution_count": null,
   "id": "ea758a48-24b5-4d4b-827f-962a6ff3976f",
   "metadata": {},
   "outputs": [],
   "source": []
  },
  {
   "cell_type": "code",
   "execution_count": null,
   "id": "97293314-d9fa-4dda-a512-cd5ed53a16b9",
   "metadata": {},
   "outputs": [],
   "source": []
  },
  {
   "cell_type": "code",
   "execution_count": null,
   "id": "32a152a5-1745-4894-9d4e-057561a36d15",
   "metadata": {},
   "outputs": [],
   "source": []
  },
  {
   "cell_type": "code",
   "execution_count": null,
   "id": "976a9762-1b8c-440e-ae63-a71222648b87",
   "metadata": {},
   "outputs": [],
   "source": []
  },
  {
   "cell_type": "code",
   "execution_count": null,
   "id": "419ecf4b-3c2d-4f9d-967e-61e9ecb09b5f",
   "metadata": {},
   "outputs": [],
   "source": []
  },
  {
   "cell_type": "code",
   "execution_count": null,
   "id": "f1129c6f-5b1f-4761-b217-8558e07d4a78",
   "metadata": {},
   "outputs": [],
   "source": []
  },
  {
   "cell_type": "code",
   "execution_count": null,
   "id": "cb4b5605-df2f-41c4-a725-3fbd8fe69b05",
   "metadata": {},
   "outputs": [],
   "source": []
  },
  {
   "cell_type": "code",
   "execution_count": null,
   "id": "ca6bbe93-b59c-4e3c-a4c8-6940d8624936",
   "metadata": {},
   "outputs": [],
   "source": []
  },
  {
   "cell_type": "code",
   "execution_count": null,
   "id": "633180a4-d8cc-49e3-9491-dbef316679b6",
   "metadata": {},
   "outputs": [],
   "source": []
  },
  {
   "cell_type": "code",
   "execution_count": null,
   "id": "9c294a22-5d1e-4567-8ab2-da0588031000",
   "metadata": {},
   "outputs": [],
   "source": []
  }
 ],
 "metadata": {
  "kernelspec": {
   "display_name": "Python 3 (ipykernel)",
   "language": "python",
   "name": "python3"
  },
  "language_info": {
   "codemirror_mode": {
    "name": "ipython",
    "version": 3
   },
   "file_extension": ".py",
   "mimetype": "text/x-python",
   "name": "python",
   "nbconvert_exporter": "python",
   "pygments_lexer": "ipython3",
   "version": "3.12.3"
  }
 },
 "nbformat": 4,
 "nbformat_minor": 5
}
