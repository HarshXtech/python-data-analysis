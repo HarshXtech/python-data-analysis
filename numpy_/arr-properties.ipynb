{
 "cells": [
  {
   "cell_type": "code",
   "execution_count": 1,
   "id": "b4038844-1d50-4a33-a593-8edd765c2656",
   "metadata": {},
   "outputs": [],
   "source": [
    "import numpy as np"
   ]
  },
  {
   "cell_type": "code",
   "execution_count": 3,
   "id": "2d3f0119-4682-4076-ab05-2976ed5fa491",
   "metadata": {},
   "outputs": [],
   "source": [
    "arr_one = np.array([1,2,3,4,5,6])"
   ]
  },
  {
   "cell_type": "code",
   "execution_count": 4,
   "id": "cc9d0a64-857b-48df-9dd0-f41974eb515c",
   "metadata": {},
   "outputs": [],
   "source": [
    "arr_two = np.array([\n",
    "    [1,2,3,4],\n",
    "    [5,6,7,8]\n",
    "])"
   ]
  },
  {
   "cell_type": "code",
   "execution_count": 6,
   "id": "453adc57-6ffa-4012-bd8b-e566c8836c0d",
   "metadata": {},
   "outputs": [],
   "source": [
    "arr_three = np.array(\n",
    "    [\n",
    "        [\n",
    "            [1,2,3,4],\n",
    "            [3,4,5,6]\n",
    "        ],\n",
    "        [\n",
    "            [1,2,3,4],\n",
    "            [3,4,5,6]\n",
    "        ],\n",
    "    ]\n",
    ")"
   ]
  },
  {
   "cell_type": "markdown",
   "id": "3f40c0f1-b786-42f0-8fea-898b008c880a",
   "metadata": {},
   "source": [
    "### ndim : nth dimension : it returns number of dimensions that array have!"
   ]
  },
  {
   "cell_type": "code",
   "execution_count": 7,
   "id": "ebc8f0a2-4034-43db-9e4f-27487627c837",
   "metadata": {},
   "outputs": [
    {
     "data": {
      "text/plain": [
       "1"
      ]
     },
     "execution_count": 7,
     "metadata": {},
     "output_type": "execute_result"
    }
   ],
   "source": [
    "arr_one.ndim"
   ]
  },
  {
   "cell_type": "code",
   "execution_count": 8,
   "id": "c0c23cd9-f75f-4242-872e-fb915bbe1fe8",
   "metadata": {},
   "outputs": [
    {
     "data": {
      "text/plain": [
       "2"
      ]
     },
     "execution_count": 8,
     "metadata": {},
     "output_type": "execute_result"
    }
   ],
   "source": [
    "arr_two.ndim"
   ]
  },
  {
   "cell_type": "code",
   "execution_count": 9,
   "id": "bf9af62d-da3d-4024-9a7f-be9458cc1084",
   "metadata": {},
   "outputs": [
    {
     "data": {
      "text/plain": [
       "3"
      ]
     },
     "execution_count": 9,
     "metadata": {},
     "output_type": "execute_result"
    }
   ],
   "source": [
    "arr_three.ndim"
   ]
  },
  {
   "cell_type": "code",
   "execution_count": null,
   "id": "693726ef-d568-44e5-bd27-9a3a1f75dbaa",
   "metadata": {},
   "outputs": [],
   "source": []
  },
  {
   "cell_type": "markdown",
   "id": "589e1468-b6b9-4232-a840-57d8f11060d4",
   "metadata": {},
   "source": [
    "### shape : it returns the number of rows and columns present in the array"
   ]
  },
  {
   "cell_type": "code",
   "execution_count": 10,
   "id": "f52199b5-7ddf-4ca7-8a05-5be516a0b404",
   "metadata": {},
   "outputs": [
    {
     "data": {
      "text/plain": [
       "(6,)"
      ]
     },
     "execution_count": 10,
     "metadata": {},
     "output_type": "execute_result"
    }
   ],
   "source": [
    "arr_one.shape"
   ]
  },
  {
   "cell_type": "code",
   "execution_count": 11,
   "id": "202d5cff-34f0-40b8-959e-eff4642ad175",
   "metadata": {},
   "outputs": [
    {
     "data": {
      "text/plain": [
       "(2, 4)"
      ]
     },
     "execution_count": 11,
     "metadata": {},
     "output_type": "execute_result"
    }
   ],
   "source": [
    "arr_two.shape # (2, 4) : (row, column)"
   ]
  },
  {
   "cell_type": "code",
   "execution_count": 13,
   "id": "28685ba9-1f07-4a03-b6fc-e33a1250502d",
   "metadata": {},
   "outputs": [
    {
     "data": {
      "text/plain": [
       "(2, 2, 4)"
      ]
     },
     "execution_count": 13,
     "metadata": {},
     "output_type": "execute_result"
    }
   ],
   "source": [
    "arr_three.shape # (2, 2, 4) : (block, row, column)"
   ]
  },
  {
   "cell_type": "code",
   "execution_count": 14,
   "id": "bccf79a2-f3b5-4c88-8422-cf5e88c7415f",
   "metadata": {},
   "outputs": [
    {
     "data": {
      "text/plain": [
       "array([[[1, 2, 3, 4],\n",
       "        [3, 4, 5, 6]],\n",
       "\n",
       "       [[1, 2, 3, 4],\n",
       "        [3, 4, 5, 6]]])"
      ]
     },
     "execution_count": 14,
     "metadata": {},
     "output_type": "execute_result"
    }
   ],
   "source": [
    "arr_three"
   ]
  },
  {
   "cell_type": "code",
   "execution_count": null,
   "id": "3dbb6702-bb3c-46dc-84d6-7afa7f61a398",
   "metadata": {},
   "outputs": [],
   "source": []
  },
  {
   "cell_type": "markdown",
   "id": "e00fb371-2cfe-434e-83c3-2d99d7058ce6",
   "metadata": {},
   "source": [
    "## size : the number of elements present in the array"
   ]
  },
  {
   "cell_type": "code",
   "execution_count": 15,
   "id": "a42cbaab-e6f5-4951-bcc5-6bb75fceae7c",
   "metadata": {},
   "outputs": [
    {
     "data": {
      "text/plain": [
       "6"
      ]
     },
     "execution_count": 15,
     "metadata": {},
     "output_type": "execute_result"
    }
   ],
   "source": [
    "arr_one.size"
   ]
  },
  {
   "cell_type": "code",
   "execution_count": 16,
   "id": "070bc363-377f-43fe-96d0-34b2e5067fe7",
   "metadata": {},
   "outputs": [
    {
     "data": {
      "text/plain": [
       "8"
      ]
     },
     "execution_count": 16,
     "metadata": {},
     "output_type": "execute_result"
    }
   ],
   "source": [
    "arr_two.size"
   ]
  },
  {
   "cell_type": "code",
   "execution_count": 17,
   "id": "b9a51fed-e77c-44cf-ad96-03e051ced34e",
   "metadata": {},
   "outputs": [
    {
     "data": {
      "text/plain": [
       "16"
      ]
     },
     "execution_count": 17,
     "metadata": {},
     "output_type": "execute_result"
    }
   ],
   "source": [
    "arr_three.size"
   ]
  },
  {
   "cell_type": "code",
   "execution_count": 18,
   "id": "5b4cdd58-97d0-4534-a4b6-821bb52cf439",
   "metadata": {},
   "outputs": [
    {
     "data": {
      "text/plain": [
       "array([1, 2, 3, 4, 5, 6])"
      ]
     },
     "execution_count": 18,
     "metadata": {},
     "output_type": "execute_result"
    }
   ],
   "source": [
    "arr_one"
   ]
  },
  {
   "cell_type": "code",
   "execution_count": 19,
   "id": "7a33ca09-7731-42ec-8aa7-02289fbd2eac",
   "metadata": {},
   "outputs": [
    {
     "data": {
      "text/plain": [
       "array([[1, 2, 3, 4],\n",
       "       [5, 6, 7, 8]])"
      ]
     },
     "execution_count": 19,
     "metadata": {},
     "output_type": "execute_result"
    }
   ],
   "source": [
    "arr_two"
   ]
  },
  {
   "cell_type": "code",
   "execution_count": null,
   "id": "5e87d4cb-5cdb-48bc-bb59-955afffadf33",
   "metadata": {},
   "outputs": [],
   "source": []
  },
  {
   "cell_type": "code",
   "execution_count": null,
   "id": "953a749b-2eae-4fd7-86e6-ba8b9cb19117",
   "metadata": {},
   "outputs": [],
   "source": []
  }
 ],
 "metadata": {
  "kernelspec": {
   "display_name": "Python 3 (ipykernel)",
   "language": "python",
   "name": "python3"
  },
  "language_info": {
   "codemirror_mode": {
    "name": "ipython",
    "version": 3
   },
   "file_extension": ".py",
   "mimetype": "text/x-python",
   "name": "python",
   "nbconvert_exporter": "python",
   "pygments_lexer": "ipython3",
   "version": "3.12.3"
  }
 },
 "nbformat": 4,
 "nbformat_minor": 5
}
