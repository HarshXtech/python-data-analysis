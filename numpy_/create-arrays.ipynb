{
 "cells": [
  {
   "cell_type": "code",
   "execution_count": 2,
   "id": "90e4eefc-4871-4244-843e-6ff8f6ea4018",
   "metadata": {},
   "outputs": [],
   "source": [
    "import numpy as np"
   ]
  },
  {
   "cell_type": "code",
   "execution_count": 3,
   "id": "e0baeebc-7093-4fd9-bc6f-f6faa8d2796a",
   "metadata": {},
   "outputs": [],
   "source": [
    "x = np.array([1,2,3,4])"
   ]
  },
  {
   "cell_type": "code",
   "execution_count": null,
   "id": "766e3a63-cf10-4fa0-ba62-7feb4064ca16",
   "metadata": {},
   "outputs": [],
   "source": []
  },
  {
   "cell_type": "markdown",
   "id": "d23607d6-1b23-4062-b02c-35433ba1b494",
   "metadata": {},
   "source": [
    "#### zeros : to create an array with value of zero"
   ]
  },
  {
   "cell_type": "code",
   "execution_count": 4,
   "id": "76e4ca00-19ce-4450-b77c-e6d7ddcb9e24",
   "metadata": {},
   "outputs": [],
   "source": [
    "arr_zeros = np.zeros((3, 4))"
   ]
  },
  {
   "cell_type": "code",
   "execution_count": 5,
   "id": "70007286-b734-4363-9227-5feba4d50125",
   "metadata": {},
   "outputs": [
    {
     "data": {
      "text/plain": [
       "array([[0., 0., 0., 0.],\n",
       "       [0., 0., 0., 0.],\n",
       "       [0., 0., 0., 0.]])"
      ]
     },
     "execution_count": 5,
     "metadata": {},
     "output_type": "execute_result"
    }
   ],
   "source": [
    "arr_zeros"
   ]
  },
  {
   "cell_type": "code",
   "execution_count": null,
   "id": "7e61aa3e-ddff-40b8-aa3c-9221ab79b5d0",
   "metadata": {},
   "outputs": [],
   "source": []
  },
  {
   "cell_type": "markdown",
   "id": "cfbadd7b-cc0c-4728-8b1d-566eb63d82cd",
   "metadata": {},
   "source": [
    "### ones : to create an array with value filled with one"
   ]
  },
  {
   "cell_type": "code",
   "execution_count": 6,
   "id": "44f486c1-484a-4f70-8c2d-559f70283636",
   "metadata": {},
   "outputs": [],
   "source": [
    "arr_ones = np.ones((2, 5))"
   ]
  },
  {
   "cell_type": "code",
   "execution_count": 7,
   "id": "bcce4386-fa7f-4965-ba8f-48b4f9371615",
   "metadata": {},
   "outputs": [
    {
     "data": {
      "text/plain": [
       "array([[1., 1., 1., 1., 1.],\n",
       "       [1., 1., 1., 1., 1.]])"
      ]
     },
     "execution_count": 7,
     "metadata": {},
     "output_type": "execute_result"
    }
   ],
   "source": [
    "arr_ones"
   ]
  },
  {
   "cell_type": "code",
   "execution_count": null,
   "id": "19025cbf-d91f-4beb-813f-b24caa8f8565",
   "metadata": {},
   "outputs": [],
   "source": []
  },
  {
   "cell_type": "markdown",
   "id": "d9c3165b-f8dc-46d4-b7cd-ed11ac7d1ba9",
   "metadata": {},
   "source": [
    "#### full : to create an array with a specific value"
   ]
  },
  {
   "cell_type": "code",
   "execution_count": 12,
   "id": "163dab3e-8a0b-4115-88c0-0534bc85f8fa",
   "metadata": {},
   "outputs": [],
   "source": [
    "arr = np.full((2,4), 7)"
   ]
  },
  {
   "cell_type": "code",
   "execution_count": 13,
   "id": "add84969-1dcb-46e9-8dd8-94770e421c4c",
   "metadata": {},
   "outputs": [
    {
     "data": {
      "text/plain": [
       "array([[7, 7, 7, 7],\n",
       "       [7, 7, 7, 7]])"
      ]
     },
     "execution_count": 13,
     "metadata": {},
     "output_type": "execute_result"
    }
   ],
   "source": [
    "arr"
   ]
  },
  {
   "cell_type": "code",
   "execution_count": null,
   "id": "341ed9ac-a301-4d99-9ef0-7c1c9f8233f6",
   "metadata": {},
   "outputs": [],
   "source": []
  },
  {
   "cell_type": "markdown",
   "id": "9ae82c9d-87cf-4ccb-9276-eca2369ef66b",
   "metadata": {},
   "source": [
    "### eye : to create an identity matrix"
   ]
  },
  {
   "cell_type": "code",
   "execution_count": 15,
   "id": "b98dc4ab-e619-4d06-ba02-86433b642f22",
   "metadata": {},
   "outputs": [],
   "source": [
    "mat_i = np.eye(4)"
   ]
  },
  {
   "cell_type": "code",
   "execution_count": 16,
   "id": "e5ff66b9-3673-4071-a144-b7fab08fbef9",
   "metadata": {},
   "outputs": [
    {
     "data": {
      "text/plain": [
       "array([[1., 0., 0., 0.],\n",
       "       [0., 1., 0., 0.],\n",
       "       [0., 0., 1., 0.],\n",
       "       [0., 0., 0., 1.]])"
      ]
     },
     "execution_count": 16,
     "metadata": {},
     "output_type": "execute_result"
    }
   ],
   "source": [
    "mat_i"
   ]
  },
  {
   "cell_type": "code",
   "execution_count": null,
   "id": "4801efe7-6b5a-4d9a-a018-85f585d808fa",
   "metadata": {},
   "outputs": [],
   "source": []
  },
  {
   "cell_type": "markdown",
   "id": "b65a5146-ca0f-4cf3-ac0e-7d4882323117",
   "metadata": {},
   "source": [
    "### linspace : "
   ]
  },
  {
   "cell_type": "code",
   "execution_count": 35,
   "id": "5a2bb6d3-2128-4980-ac51-4ef28d16b087",
   "metadata": {},
   "outputs": [],
   "source": [
    "lin = np.linspace(10, 15, 11)"
   ]
  },
  {
   "cell_type": "code",
   "execution_count": 36,
   "id": "dad046b7-b9b6-435f-a968-101b5c8f9f57",
   "metadata": {},
   "outputs": [
    {
     "data": {
      "text/plain": [
       "array([10. , 10.5, 11. , 11.5, 12. , 12.5, 13. , 13.5, 14. , 14.5, 15. ])"
      ]
     },
     "execution_count": 36,
     "metadata": {},
     "output_type": "execute_result"
    }
   ],
   "source": [
    "lin"
   ]
  },
  {
   "cell_type": "code",
   "execution_count": null,
   "id": "d7efe283-11ff-44fb-a73b-d64afc0400f0",
   "metadata": {},
   "outputs": [],
   "source": []
  }
 ],
 "metadata": {
  "kernelspec": {
   "display_name": "Python 3 (ipykernel)",
   "language": "python",
   "name": "python3"
  },
  "language_info": {
   "codemirror_mode": {
    "name": "ipython",
    "version": 3
   },
   "file_extension": ".py",
   "mimetype": "text/x-python",
   "name": "python",
   "nbconvert_exporter": "python",
   "pygments_lexer": "ipython3",
   "version": "3.12.3"
  }
 },
 "nbformat": 4,
 "nbformat_minor": 5
}
