{
 "cells": [
  {
   "cell_type": "code",
   "execution_count": 1,
   "id": "24836219-e78c-4d7f-9358-c1cc005ba575",
   "metadata": {},
   "outputs": [],
   "source": [
    "# Scalar, vector, matrix, and tensor"
   ]
  },
  {
   "cell_type": "code",
   "execution_count": 2,
   "id": "a36aacbf-0061-4212-8c48-95bcbe32028b",
   "metadata": {},
   "outputs": [],
   "source": [
    "import numpy as np"
   ]
  },
  {
   "cell_type": "markdown",
   "id": "d7d76b33-1287-41b2-a101-bb4b076cccd2",
   "metadata": {},
   "source": [
    "#### Scalar : is a single value without any dimension\n",
    "#### vector : goes into one direction and it has one dimension\n",
    "#### matrix : goes into two direction and it has two dimension (row and column)\n",
    "#### tensor : >= 3 dimensions"
   ]
  },
  {
   "cell_type": "code",
   "execution_count": 3,
   "id": "98206d90-8697-44ad-8340-c4e1b892ccb9",
   "metadata": {},
   "outputs": [],
   "source": [
    "a = 10"
   ]
  },
  {
   "cell_type": "code",
   "execution_count": 4,
   "id": "2242bcac-237b-4705-981a-b18f73acbe27",
   "metadata": {},
   "outputs": [],
   "source": [
    "x = np.array([1,2,3,4,5])"
   ]
  },
  {
   "cell_type": "code",
   "execution_count": 5,
   "id": "1510946e-9e58-4efa-9747-c62ded7fd3e7",
   "metadata": {},
   "outputs": [
    {
     "data": {
      "text/plain": [
       "array([1, 2, 3, 4, 5])"
      ]
     },
     "execution_count": 5,
     "metadata": {},
     "output_type": "execute_result"
    }
   ],
   "source": [
    "x"
   ]
  },
  {
   "cell_type": "code",
   "execution_count": 6,
   "id": "5e3ad99c-d21d-46db-ac89-6b136b47dbaf",
   "metadata": {},
   "outputs": [],
   "source": [
    "matrix = np.array([\n",
    "    [1,2,3,4],\n",
    "    [5,6,7,8]\n",
    "])"
   ]
  },
  {
   "cell_type": "code",
   "execution_count": 7,
   "id": "d6ae905f-b6c8-4d47-a131-01b49285858c",
   "metadata": {},
   "outputs": [
    {
     "data": {
      "text/plain": [
       "array([[1, 2, 3, 4],\n",
       "       [5, 6, 7, 8]])"
      ]
     },
     "execution_count": 7,
     "metadata": {},
     "output_type": "execute_result"
    }
   ],
   "source": [
    "matrix"
   ]
  },
  {
   "cell_type": "code",
   "execution_count": 8,
   "id": "e5771199-6898-4548-adfd-a029ab92ee3f",
   "metadata": {},
   "outputs": [],
   "source": [
    "tensor = np.array([\n",
    "    [\n",
    "        [1,2,3],\n",
    "        [3,4,5],\n",
    "    ],\n",
    "    [\n",
    "        [1,2,3],\n",
    "        [3,4,5],\n",
    "    ],\n",
    "])"
   ]
  },
  {
   "cell_type": "code",
   "execution_count": 9,
   "id": "5c04d6d0-9c5e-41fe-b7d1-a050861ecf10",
   "metadata": {},
   "outputs": [
    {
     "data": {
      "text/plain": [
       "array([[[1, 2, 3],\n",
       "        [3, 4, 5]],\n",
       "\n",
       "       [[1, 2, 3],\n",
       "        [3, 4, 5]]])"
      ]
     },
     "execution_count": 9,
     "metadata": {},
     "output_type": "execute_result"
    }
   ],
   "source": [
    "tensor"
   ]
  },
  {
   "cell_type": "code",
   "execution_count": null,
   "id": "8bbe2c62-f262-4225-a749-6db10fd9310c",
   "metadata": {},
   "outputs": [],
   "source": []
  }
 ],
 "metadata": {
  "kernelspec": {
   "display_name": "Python 3 (ipykernel)",
   "language": "python",
   "name": "python3"
  },
  "language_info": {
   "codemirror_mode": {
    "name": "ipython",
    "version": 3
   },
   "file_extension": ".py",
   "mimetype": "text/x-python",
   "name": "python",
   "nbconvert_exporter": "python",
   "pygments_lexer": "ipython3",
   "version": "3.12.3"
  }
 },
 "nbformat": 4,
 "nbformat_minor": 5
}
